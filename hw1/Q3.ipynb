{
 "cells": [
  {
   "cell_type": "code",
   "execution_count": 1,
   "id": "c31753eb",
   "metadata": {},
   "outputs": [],
   "source": [
    "#STUDENT NAME: SHRUTHI\n",
    "#STUDENT ID: 801218392\n",
    "#HOMEWORK 1 QUESTION 3"
   ]
  },
  {
   "cell_type": "code",
   "execution_count": 2,
   "id": "2efc607c",
   "metadata": {},
   "outputs": [],
   "source": [
    "## Please note that for this question I used AutoGrad and SGD Optimizer\n",
    "\n",
    "%matplotlib inline\n",
    "import numpy as np\n",
    "import torch\n",
    "import torch.optim as optim\n",
    "import pandas as pd \n",
    "import math\n",
    "torch.set_printoptions(edgeitems=2, linewidth=75)"
   ]
  },
  {
   "cell_type": "code",
   "execution_count": 3,
   "id": "8ff2d38d",
   "metadata": {},
   "outputs": [
    {
     "data": {
      "text/plain": [
       "(545, 13)"
      ]
     },
     "execution_count": 3,
     "metadata": {},
     "output_type": "execute_result"
    }
   ],
   "source": [
    "# Obtaining the housing data as given in the sample code\n",
    "housing = pd.DataFrame(pd.read_csv(\"C:/Users/Shruthi/Documents/HWs/RTML/hw1/images/Housing.csv\")) \n",
    "#housing.head() \n",
    "housing\n",
    "housing.shape "
   ]
  },
  {
   "cell_type": "code",
   "execution_count": 4,
   "id": "cb761924",
   "metadata": {},
   "outputs": [
    {
     "data": {
      "text/html": [
       "<div>\n",
       "<style scoped>\n",
       "    .dataframe tbody tr th:only-of-type {\n",
       "        vertical-align: middle;\n",
       "    }\n",
       "\n",
       "    .dataframe tbody tr th {\n",
       "        vertical-align: top;\n",
       "    }\n",
       "\n",
       "    .dataframe thead th {\n",
       "        text-align: right;\n",
       "    }\n",
       "</style>\n",
       "<table border=\"1\" class=\"dataframe\">\n",
       "  <thead>\n",
       "    <tr style=\"text-align: right;\">\n",
       "      <th></th>\n",
       "      <th>area</th>\n",
       "      <th>bedrooms</th>\n",
       "      <th>bathrooms</th>\n",
       "      <th>stories</th>\n",
       "      <th>parking</th>\n",
       "      <th>price</th>\n",
       "    </tr>\n",
       "  </thead>\n",
       "  <tbody>\n",
       "    <tr>\n",
       "      <th>0</th>\n",
       "      <td>7420</td>\n",
       "      <td>4</td>\n",
       "      <td>2</td>\n",
       "      <td>3</td>\n",
       "      <td>2</td>\n",
       "      <td>13300000</td>\n",
       "    </tr>\n",
       "    <tr>\n",
       "      <th>1</th>\n",
       "      <td>8960</td>\n",
       "      <td>4</td>\n",
       "      <td>4</td>\n",
       "      <td>4</td>\n",
       "      <td>3</td>\n",
       "      <td>12250000</td>\n",
       "    </tr>\n",
       "    <tr>\n",
       "      <th>2</th>\n",
       "      <td>9960</td>\n",
       "      <td>3</td>\n",
       "      <td>2</td>\n",
       "      <td>2</td>\n",
       "      <td>2</td>\n",
       "      <td>12250000</td>\n",
       "    </tr>\n",
       "    <tr>\n",
       "      <th>3</th>\n",
       "      <td>7500</td>\n",
       "      <td>4</td>\n",
       "      <td>2</td>\n",
       "      <td>2</td>\n",
       "      <td>3</td>\n",
       "      <td>12215000</td>\n",
       "    </tr>\n",
       "    <tr>\n",
       "      <th>4</th>\n",
       "      <td>7420</td>\n",
       "      <td>4</td>\n",
       "      <td>1</td>\n",
       "      <td>2</td>\n",
       "      <td>2</td>\n",
       "      <td>11410000</td>\n",
       "    </tr>\n",
       "    <tr>\n",
       "      <th>...</th>\n",
       "      <td>...</td>\n",
       "      <td>...</td>\n",
       "      <td>...</td>\n",
       "      <td>...</td>\n",
       "      <td>...</td>\n",
       "      <td>...</td>\n",
       "    </tr>\n",
       "    <tr>\n",
       "      <th>540</th>\n",
       "      <td>3000</td>\n",
       "      <td>2</td>\n",
       "      <td>1</td>\n",
       "      <td>1</td>\n",
       "      <td>2</td>\n",
       "      <td>1820000</td>\n",
       "    </tr>\n",
       "    <tr>\n",
       "      <th>541</th>\n",
       "      <td>2400</td>\n",
       "      <td>3</td>\n",
       "      <td>1</td>\n",
       "      <td>1</td>\n",
       "      <td>0</td>\n",
       "      <td>1767150</td>\n",
       "    </tr>\n",
       "    <tr>\n",
       "      <th>542</th>\n",
       "      <td>3620</td>\n",
       "      <td>2</td>\n",
       "      <td>1</td>\n",
       "      <td>1</td>\n",
       "      <td>0</td>\n",
       "      <td>1750000</td>\n",
       "    </tr>\n",
       "    <tr>\n",
       "      <th>543</th>\n",
       "      <td>2910</td>\n",
       "      <td>3</td>\n",
       "      <td>1</td>\n",
       "      <td>1</td>\n",
       "      <td>0</td>\n",
       "      <td>1750000</td>\n",
       "    </tr>\n",
       "    <tr>\n",
       "      <th>544</th>\n",
       "      <td>3850</td>\n",
       "      <td>3</td>\n",
       "      <td>1</td>\n",
       "      <td>2</td>\n",
       "      <td>0</td>\n",
       "      <td>1750000</td>\n",
       "    </tr>\n",
       "  </tbody>\n",
       "</table>\n",
       "<p>545 rows × 6 columns</p>\n",
       "</div>"
      ],
      "text/plain": [
       "     area  bedrooms  bathrooms  stories  parking     price\n",
       "0    7420         4          2        3        2  13300000\n",
       "1    8960         4          4        4        3  12250000\n",
       "2    9960         3          2        2        2  12250000\n",
       "3    7500         4          2        2        3  12215000\n",
       "4    7420         4          1        2        2  11410000\n",
       "..    ...       ...        ...      ...      ...       ...\n",
       "540  3000         2          1        1        2   1820000\n",
       "541  2400         3          1        1        0   1767150\n",
       "542  3620         2          1        1        0   1750000\n",
       "543  2910         3          1        1        0   1750000\n",
       "544  3850         3          1        2        0   1750000\n",
       "\n",
       "[545 rows x 6 columns]"
      ]
     },
     "execution_count": 4,
     "metadata": {},
     "output_type": "execute_result"
    }
   ],
   "source": [
    "num_vars = ['area', 'bedrooms', 'bathrooms', 'stories', 'parking','price'] \n",
    "Newtrain = housing[num_vars] \n",
    "Newtrain"
   ]
  },
  {
   "cell_type": "code",
   "execution_count": 5,
   "id": "5f97da15",
   "metadata": {},
   "outputs": [
    {
     "name": "stdout",
     "output_type": "stream",
     "text": [
      "545\n",
      "6\n"
     ]
    },
    {
     "data": {
      "text/plain": [
       "6"
      ]
     },
     "execution_count": 5,
     "metadata": {},
     "output_type": "execute_result"
    }
   ],
   "source": [
    "#Randomly shuffling the rows, to give the model a more random data\n",
    "t_an = Newtrain.to_numpy()\n",
    "np.random.shuffle(t_an)\n",
    "t_an.shape\n",
    "row=t_an.shape[0]\n",
    "column=t_an.shape[1]\n",
    "print(row)\n",
    "print(column)\n",
    "column"
   ]
  },
  {
   "cell_type": "code",
   "execution_count": 6,
   "id": "db6e526c",
   "metadata": {},
   "outputs": [
    {
     "name": "stdout",
     "output_type": "stream",
     "text": [
      "2168.149153321305 0.7373864268686331 0.5020084231005495 0.8666962328697991 0.8607949418951395 1868722.828131208\n",
      "5150.54128440367 2.9651376146788992 1.2862385321100918 1.8055045871559634 0.6935779816513762 4766729.247706422\n",
      "[[ 1  0  1  2  1  2]\n",
      " [ 0  4  1  0  0  0]\n",
      " [ 0  1  0  0  0  0]\n",
      " ...\n",
      " [ 0 -1  0  0  0  0]\n",
      " [ 0  0  0  0  0  0]\n",
      " [ 0 -1  0  0  0 -1]]\n"
     ]
    }
   ],
   "source": [
    "# Normalizing the data as per the formula in the textbook \n",
    "## P.S. all the operations of the normalization of the dataset are done when the matrix is a numpy array\n",
    "#Standard Deviations of each column\n",
    "std0=np.sqrt(np.var(t_an[:,0], axis=0))\n",
    "std1=np.sqrt(np.var(t_an[:,1], axis=0))\n",
    "std2=np.sqrt(np.var(t_an[:,2], axis=0))\n",
    "std3=np.sqrt(np.var(t_an[:,3], axis=0))\n",
    "std4=np.sqrt(np.var(t_an[:,4], axis=0))\n",
    "std5=np.sqrt(np.var(t_an[:,5], axis=0))\n",
    "#Mean of each column\n",
    "mean0=np.mean(t_an[:,0])\n",
    "mean1=np.mean(t_an[:,1])\n",
    "mean2=np.mean(t_an[:,2])\n",
    "mean3=np.mean(t_an[:,3])\n",
    "mean4=np.mean(t_an[:,4])\n",
    "mean5=np.mean(t_an[:,5])\n",
    "#Iterating to get the normalized values in the dataset\n",
    "for r in range (row):\n",
    "    t_an[r, 0]=(t_an[r, 0]-mean0)/std0\n",
    "    t_an[r, 1]=(t_an[r, 1]-mean1)/std1\n",
    "    t_an[r, 2]=(t_an[r, 2]-mean2)/std2\n",
    "    t_an[r, 3]=(t_an[r, 3]-mean3)/std3\n",
    "    t_an[r, 4]=(t_an[r, 4]-mean4)/std4\n",
    "    t_an[r, 5]=(t_an[r, 5]-mean5)/std5\n",
    "\n",
    "print(std0, std1, std2, std3, std4, std5)\n",
    "print(mean0, mean1, mean2, mean3, mean4, mean5)\n",
    "print(t_an)"
   ]
  },
  {
   "cell_type": "code",
   "execution_count": 7,
   "id": "a25cca9e",
   "metadata": {},
   "outputs": [],
   "source": [
    "#Splitting the dataset in order to get the target data- the price. Here it is t_c\n",
    "#To get the target data, the price data, I took a transpose of the original dataset array\n",
    "t_a1, t_a2, t_a3, t_a4, t_a5, t_cn = t_an.T\n",
    "t_cn=torch.tensor(t_cn)\n",
    "t_c=t_cn"
   ]
  },
  {
   "cell_type": "code",
   "execution_count": 8,
   "id": "9f8c5007",
   "metadata": {},
   "outputs": [],
   "source": [
    "#Combining the remaing again to get the feature dataset\n",
    "t_t = (t_a1, t_a2, t_a3, t_a4, t_a5)\n",
    "t_ua = np.vstack(t_t)\n",
    "t_ua.shape\n",
    "t_u = torch.tensor(t_ua)"
   ]
  },
  {
   "cell_type": "code",
   "execution_count": 9,
   "id": "f3d3a0f1",
   "metadata": {},
   "outputs": [],
   "source": [
    "#Defining the model as given in the question\n",
    "def model(t_u, w1, w2, w3, w4, w5, b):\n",
    "    W1= w1 * t_u[0, :] \n",
    "    W2= w2 * t_u[1, :]\n",
    "    W3= w3 * t_u[2, :]\n",
    "    W4= w4 * t_u[3, :]\n",
    "    W5= w5 * t_u[4, :]\n",
    "    s= W1 + W2 + W3 + W4 + W5\n",
    "    un = (s+b)\n",
    "    return un"
   ]
  },
  {
   "cell_type": "code",
   "execution_count": 10,
   "id": "f64bb5e4",
   "metadata": {},
   "outputs": [],
   "source": [
    "def loss_fn(t_p, t_c):\n",
    "    squared_diffs = (t_p - t_c)**2\n",
    "    return squared_diffs.mean()"
   ]
  },
  {
   "cell_type": "code",
   "execution_count": 11,
   "id": "c5b5a354",
   "metadata": {},
   "outputs": [],
   "source": [
    "#Defining the parameters as a 1x6 tensor for the values of w1, w2, w3, w4, w5 and bias respectively and \n",
    "# declaring the SGD optimizer\n",
    "params = torch.tensor([1.0, 1.0, 1.0, 1.0, 1.0, 0.0], requires_grad=True)\n",
    "learning_rate = 1e-5\n",
    "optimizer = optim.SGD([params], lr=learning_rate)"
   ]
  },
  {
   "cell_type": "code",
   "execution_count": 12,
   "id": "95f5e444",
   "metadata": {},
   "outputs": [
    {
     "data": {
      "text/plain": [
       "tensor([ 9.9999e-01,  9.9999e-01,  9.9998e-01,  9.9999e-01,  9.9999e-01,\n",
       "        -1.5046e-05], requires_grad=True)"
      ]
     },
     "execution_count": 12,
     "metadata": {},
     "output_type": "execute_result"
    }
   ],
   "source": [
    "#Definig t_p, the predicted price data\n",
    "t_p = model(t_u, *params)\n",
    "loss = loss_fn(t_p, t_c)\n",
    "loss.backward()\n",
    "\n",
    "optimizer.step()\n",
    "params"
   ]
  },
  {
   "cell_type": "code",
   "execution_count": 13,
   "id": "94f8a8ee",
   "metadata": {},
   "outputs": [],
   "source": [
    "#Definig the training loop\n",
    "def training_loop(n_epochs, optimizer, params, t_u, t_c):\n",
    "    for epoch in range(1, n_epochs + 1):\n",
    "        t_p = model(t_u, *params) # <1>\n",
    "        loss = loss_fn(t_p, t_c)\n",
    "        \n",
    "        optimizer.zero_grad()\n",
    "        loss.backward() # <2>\n",
    "        optimizer.step()\n",
    "\n",
    "        if epoch==1 or epoch % 500 == 0:\n",
    "            print(f\"Epoch {epoch}, Training loss {loss.item():.4f},\")\n",
    "            \n",
    "    return params"
   ]
  },
  {
   "cell_type": "code",
   "execution_count": 14,
   "id": "988cef73",
   "metadata": {},
   "outputs": [],
   "source": [
    "                                    #*** LEARNING RATE= 1E-1 ***"
   ]
  },
  {
   "cell_type": "code",
   "execution_count": 15,
   "id": "cd036a9a",
   "metadata": {},
   "outputs": [
    {
     "name": "stdout",
     "output_type": "stream",
     "text": [
      "Epoch 1, Training loss 2.8404,\n",
      "Epoch 500, Training loss 0.3234,\n",
      "Epoch 1000, Training loss 0.3234,\n",
      "Epoch 1500, Training loss 0.3234,\n",
      "Epoch 2000, Training loss 0.3234,\n",
      "Epoch 2500, Training loss 0.3234,\n",
      "Epoch 3000, Training loss 0.3234,\n",
      "Epoch 3500, Training loss 0.3234,\n",
      "Epoch 4000, Training loss 0.3234,\n",
      "Epoch 4500, Training loss 0.3234,\n",
      "Epoch 5000, Training loss 0.3234,\n"
     ]
    },
    {
     "data": {
      "text/plain": [
       "tensor([ 0.2324,  0.0914,  0.3550,  0.2194,  0.2352, -0.1388],\n",
       "       requires_grad=True)"
      ]
     },
     "execution_count": 15,
     "metadata": {},
     "output_type": "execute_result"
    }
   ],
   "source": [
    "params = torch.tensor([1.0, 1.0, 1.0, 1.0, 1.0, 0.0], requires_grad=True)\n",
    "learning_rate = 1e-1\n",
    "optimizer = optim.SGD([params], lr=learning_rate)\n",
    "\n",
    "training_loop(\n",
    "    n_epochs = 5000, \n",
    "    optimizer = optimizer,\n",
    "    params = params,\n",
    "    t_u = t_u, # <1> \n",
    "    t_c = t_c)"
   ]
  },
  {
   "cell_type": "code",
   "execution_count": 16,
   "id": "4c76215e",
   "metadata": {},
   "outputs": [],
   "source": [
    "                                #*** LEARNING RATE= 1E-2 ***"
   ]
  },
  {
   "cell_type": "code",
   "execution_count": 17,
   "id": "8697e2b1",
   "metadata": {},
   "outputs": [
    {
     "name": "stdout",
     "output_type": "stream",
     "text": [
      "Epoch 1, Training loss 2.8404,\n",
      "Epoch 500, Training loss 0.3244,\n",
      "Epoch 1000, Training loss 0.3234,\n",
      "Epoch 1500, Training loss 0.3234,\n",
      "Epoch 2000, Training loss 0.3234,\n",
      "Epoch 2500, Training loss 0.3234,\n",
      "Epoch 3000, Training loss 0.3234,\n",
      "Epoch 3500, Training loss 0.3234,\n",
      "Epoch 4000, Training loss 0.3234,\n",
      "Epoch 4500, Training loss 0.3234,\n",
      "Epoch 5000, Training loss 0.3234,\n"
     ]
    },
    {
     "data": {
      "text/plain": [
       "tensor([ 0.2324,  0.0914,  0.3550,  0.2194,  0.2352, -0.1388],\n",
       "       requires_grad=True)"
      ]
     },
     "execution_count": 17,
     "metadata": {},
     "output_type": "execute_result"
    }
   ],
   "source": [
    "params = torch.tensor([1.0, 1.0, 1.0, 1.0, 1.0, 0.0], requires_grad=True)\n",
    "learning_rate = 1e-2\n",
    "optimizer = optim.SGD([params], lr=learning_rate)\n",
    "\n",
    "training_loop(\n",
    "    n_epochs = 5000, \n",
    "    optimizer = optimizer,\n",
    "    params = params,\n",
    "    t_u = t_u, # <1> \n",
    "    t_c = t_c)"
   ]
  },
  {
   "cell_type": "code",
   "execution_count": 18,
   "id": "7773e2ab",
   "metadata": {},
   "outputs": [
    {
     "data": {
      "image/png": "[encoded data removed]",
      "text/plain": [
       "<Figure size 432x288 with 1 Axes>"
      ]
     },
     "metadata": {
      "needs_background": "light"
     },
     "output_type": "display_data"
    }
   ],
   "source": [
    "# In my code, i got the least training and validation loss for the learning rate 1e-2. \n",
    "#Hence, I visualized the t_p values obtained from here. The graph has the house index on the x axis and the predicted (blue)\n",
    "# /actual (orange) values of the y-axis. \n",
    "\n",
    "import matplotlib.pyplot as plt\n",
    "torch.Tensor.ndim = property(lambda self: len(self.shape))  # Fix it\n",
    "#plt.ylabel(\"Predicted House Values\")\n",
    "#plt.xlabel(\"Actual House Values\")\n",
    "x = list(range(0, t_u.size(1)))\n",
    "plt.xlabel(\"Number of Houses\")\n",
    "plt.ylabel(\"Normalized Predicted/Actual Prices\")\n",
    "plt.plot(x, t_p.detach().numpy())\n",
    "plt.plot(x, t_c)\n",
    "#plt.plot(t_p.detach().numpy(), t_c)  # Works now\n",
    "plt.show()"
   ]
  },
  {
   "cell_type": "code",
   "execution_count": 19,
   "id": "d5ef326e",
   "metadata": {},
   "outputs": [],
   "source": [
    "                                         #*** LEARNING RATE= 1E-3 ***"
   ]
  },
  {
   "cell_type": "code",
   "execution_count": 20,
   "id": "f24e37df",
   "metadata": {},
   "outputs": [
    {
     "name": "stdout",
     "output_type": "stream",
     "text": [
      "Epoch 1, Training loss 2.8404,\n",
      "Epoch 500, Training loss 0.7624,\n",
      "Epoch 1000, Training loss 0.4466,\n",
      "Epoch 1500, Training loss 0.3694,\n",
      "Epoch 2000, Training loss 0.3441,\n",
      "Epoch 2500, Training loss 0.3342,\n",
      "Epoch 3000, Training loss 0.3296,\n",
      "Epoch 3500, Training loss 0.3271,\n",
      "Epoch 4000, Training loss 0.3258,\n",
      "Epoch 4500, Training loss 0.3249,\n",
      "Epoch 5000, Training loss 0.3244,\n"
     ]
    },
    {
     "data": {
      "text/plain": [
       "tensor([ 0.2245,  0.0841,  0.3438,  0.2464,  0.2936, -0.1599],\n",
       "       requires_grad=True)"
      ]
     },
     "execution_count": 20,
     "metadata": {},
     "output_type": "execute_result"
    }
   ],
   "source": [
    "params = torch.tensor([1.0, 1.0, 1.0, 1.0, 1.0, 0.0], requires_grad=True)\n",
    "learning_rate = 1e-3\n",
    "optimizer = optim.SGD([params], lr=learning_rate)\n",
    "\n",
    "training_loop(\n",
    "    n_epochs = 5000, \n",
    "    optimizer = optimizer,\n",
    "    params = params,\n",
    "    t_u = t_u, # <1> \n",
    "    t_c = t_c)"
   ]
  },
  {
   "cell_type": "code",
   "execution_count": 21,
   "id": "caa6d4b9",
   "metadata": {},
   "outputs": [],
   "source": [
    "                                 #*** LEARNING RATE= 1E-4 ***"
   ]
  },
  {
   "cell_type": "code",
   "execution_count": 22,
   "id": "e7a0f1d8",
   "metadata": {},
   "outputs": [
    {
     "name": "stdout",
     "output_type": "stream",
     "text": [
      "Epoch 1, Training loss 2.8404,\n",
      "Epoch 500, Training loss 2.3835,\n",
      "Epoch 1000, Training loss 2.0186,\n",
      "Epoch 1500, Training loss 1.7264,\n",
      "Epoch 2000, Training loss 1.4915,\n",
      "Epoch 2500, Training loss 1.3016,\n",
      "Epoch 3000, Training loss 1.1473,\n",
      "Epoch 3500, Training loss 1.0214,\n",
      "Epoch 4000, Training loss 0.9180,\n",
      "Epoch 4500, Training loss 0.8326,\n",
      "Epoch 5000, Training loss 0.7617,\n"
     ]
    },
    {
     "data": {
      "text/plain": [
       "tensor([ 0.6095,  0.5023,  0.5540,  0.6415,  0.6837, -0.3408],\n",
       "       requires_grad=True)"
      ]
     },
     "execution_count": 22,
     "metadata": {},
     "output_type": "execute_result"
    }
   ],
   "source": [
    "params = torch.tensor([1.0, 1.0, 1.0, 1.0, 1.0, 0.0], requires_grad=True)\n",
    "learning_rate = 1e-4\n",
    "optimizer = optim.SGD([params], lr=learning_rate)\n",
    "\n",
    "training_loop(\n",
    "    n_epochs = 5000, \n",
    "    optimizer = optimizer,\n",
    "    params = params,\n",
    "    t_u = t_u, # <1> \n",
    "    t_c = t_c)"
   ]
  }
 ],
 "metadata": {
  "kernelspec": {
   "display_name": "Python 3 (ipykernel)",
   "language": "python",
   "name": "python3"
  },
  "language_info": {
   "codemirror_mode": {
    "name": "ipython",
    "version": 3
   },
   "file_extension": ".py",
   "mimetype": "text/x-python",
   "name": "python",
   "nbconvert_exporter": "python",
   "pygments_lexer": "ipython3",
   "version": "3.9.7"
  }
 },
 "nbformat": 4,
 "nbformat_minor": 5
}
