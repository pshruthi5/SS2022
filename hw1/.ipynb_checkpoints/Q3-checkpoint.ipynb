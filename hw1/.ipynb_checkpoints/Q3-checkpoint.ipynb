{
 "cells": [
  {
   "cell_type": "code",
   "execution_count": 1,
   "id": "c31753eb",
   "metadata": {},
   "outputs": [],
   "source": [
    "#STUDENT NAME: SHRUTHI\n",
    "#STUDENT ID: 801218392\n",
    "#HOMEWORK 1 QUESTION 3"
   ]
  },
  {
   "cell_type": "code",
   "execution_count": 2,
   "id": "e605a525",
   "metadata": {},
   "outputs": [],
   "source": [
    "## Please note that for this question I used AutoGrad and SGD Optimizer\n",
    "\n",
    "%matplotlib inline\n",
    "import numpy as np\n",
    "import torch\n",
    "import torch.optim as optim\n",
    "import pandas as pd \n",
    "torch.set_printoptions(edgeitems=2, linewidth=75)"
   ]
  },
  {
   "cell_type": "code",
   "execution_count": 3,
   "id": "8ff2d38d",
   "metadata": {},
   "outputs": [
    {
     "data": {
      "text/plain": [
       "(545, 13)"
      ]
     },
     "execution_count": 3,
     "metadata": {},
     "output_type": "execute_result"
    }
   ],
   "source": [
    "# Obtaining the housing data as given in the sample code\n",
    "housing = pd.DataFrame(pd.read_csv(\"C:/Users/Shruthi/Documents/HWs/RTML/hw1/images/Housing.csv\")) \n",
    "#housing.head() \n",
    "housing\n",
    "housing.shape "
   ]
  },
  {
   "cell_type": "code",
   "execution_count": 4,
   "id": "cb761924",
   "metadata": {},
   "outputs": [
    {
     "data": {
      "text/html": [
       "<div>\n",
       "<style scoped>\n",
       "    .dataframe tbody tr th:only-of-type {\n",
       "        vertical-align: middle;\n",
       "    }\n",
       "\n",
       "    .dataframe tbody tr th {\n",
       "        vertical-align: top;\n",
       "    }\n",
       "\n",
       "    .dataframe thead th {\n",
       "        text-align: right;\n",
       "    }\n",
       "</style>\n",
       "<table border=\"1\" class=\"dataframe\">\n",
       "  <thead>\n",
       "    <tr style=\"text-align: right;\">\n",
       "      <th></th>\n",
       "      <th>area</th>\n",
       "      <th>bedrooms</th>\n",
       "      <th>bathrooms</th>\n",
       "      <th>stories</th>\n",
       "      <th>parking</th>\n",
       "      <th>price</th>\n",
       "    </tr>\n",
       "  </thead>\n",
       "  <tbody>\n",
       "    <tr>\n",
       "      <th>0</th>\n",
       "      <td>7420</td>\n",
       "      <td>4</td>\n",
       "      <td>2</td>\n",
       "      <td>3</td>\n",
       "      <td>2</td>\n",
       "      <td>13300000</td>\n",
       "    </tr>\n",
       "    <tr>\n",
       "      <th>1</th>\n",
       "      <td>8960</td>\n",
       "      <td>4</td>\n",
       "      <td>4</td>\n",
       "      <td>4</td>\n",
       "      <td>3</td>\n",
       "      <td>12250000</td>\n",
       "    </tr>\n",
       "    <tr>\n",
       "      <th>2</th>\n",
       "      <td>9960</td>\n",
       "      <td>3</td>\n",
       "      <td>2</td>\n",
       "      <td>2</td>\n",
       "      <td>2</td>\n",
       "      <td>12250000</td>\n",
       "    </tr>\n",
       "    <tr>\n",
       "      <th>3</th>\n",
       "      <td>7500</td>\n",
       "      <td>4</td>\n",
       "      <td>2</td>\n",
       "      <td>2</td>\n",
       "      <td>3</td>\n",
       "      <td>12215000</td>\n",
       "    </tr>\n",
       "    <tr>\n",
       "      <th>4</th>\n",
       "      <td>7420</td>\n",
       "      <td>4</td>\n",
       "      <td>1</td>\n",
       "      <td>2</td>\n",
       "      <td>2</td>\n",
       "      <td>11410000</td>\n",
       "    </tr>\n",
       "    <tr>\n",
       "      <th>...</th>\n",
       "      <td>...</td>\n",
       "      <td>...</td>\n",
       "      <td>...</td>\n",
       "      <td>...</td>\n",
       "      <td>...</td>\n",
       "      <td>...</td>\n",
       "    </tr>\n",
       "    <tr>\n",
       "      <th>540</th>\n",
       "      <td>3000</td>\n",
       "      <td>2</td>\n",
       "      <td>1</td>\n",
       "      <td>1</td>\n",
       "      <td>2</td>\n",
       "      <td>1820000</td>\n",
       "    </tr>\n",
       "    <tr>\n",
       "      <th>541</th>\n",
       "      <td>2400</td>\n",
       "      <td>3</td>\n",
       "      <td>1</td>\n",
       "      <td>1</td>\n",
       "      <td>0</td>\n",
       "      <td>1767150</td>\n",
       "    </tr>\n",
       "    <tr>\n",
       "      <th>542</th>\n",
       "      <td>3620</td>\n",
       "      <td>2</td>\n",
       "      <td>1</td>\n",
       "      <td>1</td>\n",
       "      <td>0</td>\n",
       "      <td>1750000</td>\n",
       "    </tr>\n",
       "    <tr>\n",
       "      <th>543</th>\n",
       "      <td>2910</td>\n",
       "      <td>3</td>\n",
       "      <td>1</td>\n",
       "      <td>1</td>\n",
       "      <td>0</td>\n",
       "      <td>1750000</td>\n",
       "    </tr>\n",
       "    <tr>\n",
       "      <th>544</th>\n",
       "      <td>3850</td>\n",
       "      <td>3</td>\n",
       "      <td>1</td>\n",
       "      <td>2</td>\n",
       "      <td>0</td>\n",
       "      <td>1750000</td>\n",
       "    </tr>\n",
       "  </tbody>\n",
       "</table>\n",
       "<p>545 rows × 6 columns</p>\n",
       "</div>"
      ],
      "text/plain": [
       "     area  bedrooms  bathrooms  stories  parking     price\n",
       "0    7420         4          2        3        2  13300000\n",
       "1    8960         4          4        4        3  12250000\n",
       "2    9960         3          2        2        2  12250000\n",
       "3    7500         4          2        2        3  12215000\n",
       "4    7420         4          1        2        2  11410000\n",
       "..    ...       ...        ...      ...      ...       ...\n",
       "540  3000         2          1        1        2   1820000\n",
       "541  2400         3          1        1        0   1767150\n",
       "542  3620         2          1        1        0   1750000\n",
       "543  2910         3          1        1        0   1750000\n",
       "544  3850         3          1        2        0   1750000\n",
       "\n",
       "[545 rows x 6 columns]"
      ]
     },
     "execution_count": 4,
     "metadata": {},
     "output_type": "execute_result"
    }
   ],
   "source": [
    "num_vars = ['area', 'bedrooms', 'bathrooms', 'stories', 'parking','price'] \n",
    "Newtrain = housing[num_vars] \n",
    "Newtrain"
   ]
  },
  {
   "cell_type": "code",
   "execution_count": 5,
   "id": "5f97da15",
   "metadata": {},
   "outputs": [],
   "source": [
    "#Randomly shuffling the rows, to give the model a more random data\n",
    "t_an = Newtrain.to_numpy()\n",
    "np.random.shuffle(t_an)"
   ]
  },
  {
   "cell_type": "code",
   "execution_count": 6,
   "id": "a25cca9e",
   "metadata": {},
   "outputs": [],
   "source": [
    "t_a1, t_a2, t_a3, t_a4, t_a5, t_cn = t_an.T\n",
    "t_cn=torch.tensor(t_cn)\n",
    "t_c=t_cn/1000000"
   ]
  },
  {
   "cell_type": "code",
   "execution_count": 7,
   "id": "9f8c5007",
   "metadata": {},
   "outputs": [],
   "source": [
    "t_t = (t_a1, t_a2, t_a3, t_a4, t_a5)\n",
    "t_ua = np.vstack(t_t)\n",
    "t_ua.shape\n",
    "t_u = torch.tensor(t_ua)\n",
    "t_un = 0.1 * t_u"
   ]
  },
  {
   "cell_type": "code",
   "execution_count": 8,
   "id": "f3d3a0f1",
   "metadata": {},
   "outputs": [],
   "source": [
    "#Defining the model as given in the question\n",
    "def model(t_u, w1, w2, w3, w4, w5, b):\n",
    "    W1= w1 * t_u[0, :] \n",
    "    W2= w2 * t_u[1, :]\n",
    "    W3= w3 * t_u[2, :]\n",
    "    W4= w4 * t_u[3, :]\n",
    "    W5= w5 * t_u[4, :]\n",
    "    s= W1 + W2 + W3 + W4 + W5\n",
    "    un = (s+b)/100\n",
    "    return un"
   ]
  },
  {
   "cell_type": "code",
   "execution_count": 9,
   "id": "f64bb5e4",
   "metadata": {},
   "outputs": [],
   "source": [
    "def loss_fn(t_p, t_c):\n",
    "    squared_diffs = (t_p - t_c)**2\n",
    "    return squared_diffs.mean()"
   ]
  },
  {
   "cell_type": "code",
   "execution_count": 10,
   "id": "c5b5a354",
   "metadata": {},
   "outputs": [],
   "source": [
    "#Defining the parameters as a 1x6 tensor for the values of w1, w2, w3, w4, w5 and bias respectively and \n",
    "# declaring the SGD optimizer\n",
    "params = torch.tensor([1.0, 1.0, 1.0, 1.0, 1.0, 0.0], requires_grad=True)\n",
    "learning_rate = 1e-5\n",
    "optimizer = optim.SGD([params], lr=learning_rate)"
   ]
  },
  {
   "cell_type": "code",
   "execution_count": 11,
   "id": "370d39f6",
   "metadata": {},
   "outputs": [
    {
     "data": {
      "text/plain": [
       "tensor([ 9.4281e-01,  9.9997e-01,  9.9999e-01,  9.9998e-01,  9.9999e-01,\n",
       "        -9.3612e-06], requires_grad=True)"
      ]
     },
     "execution_count": 11,
     "metadata": {},
     "output_type": "execute_result"
    }
   ],
   "source": [
    "t_p = model(t_u, *params)\n",
    "loss = loss_fn(t_p, t_c)\n",
    "loss.backward()\n",
    "\n",
    "optimizer.step()\n",
    "params"
   ]
  },
  {
   "cell_type": "code",
   "execution_count": 12,
   "id": "1789c78c",
   "metadata": {},
   "outputs": [
    {
     "data": {
      "text/plain": [
       "tensor([ 9.9991e-01,  1.0000e+00,  1.0000e+00,  1.0000e+00,  1.0000e+00,\n",
       "        -7.8113e-08], requires_grad=True)"
      ]
     },
     "execution_count": 12,
     "metadata": {},
     "output_type": "execute_result"
    }
   ],
   "source": [
    "params = torch.tensor([1.0, 1.0, 1.0, 1.0, 1.0, 0.0], requires_grad=True)\n",
    "#learning_rate = 1e-2\n",
    "optimizer = optim.SGD([params], lr=learning_rate)\n",
    "\n",
    "t_p = model(t_un, *params)\n",
    "loss = loss_fn(t_p, t_c)\n",
    "\n",
    "optimizer.zero_grad() # <1>\n",
    "loss.backward()\n",
    "optimizer.step()\n",
    "\n",
    "params"
   ]
  },
  {
   "cell_type": "code",
   "execution_count": 13,
   "id": "a3ef1b6b",
   "metadata": {},
   "outputs": [],
   "source": [
    "def training_loop(n_epochs, optimizer, params, t_u, t_c):\n",
    "    for epoch in range(1, n_epochs + 1):\n",
    "        t_p = model(t_u, *params) \n",
    "        loss = loss_fn(t_p, t_c)\n",
    "        \n",
    "        optimizer.zero_grad()\n",
    "        loss.backward()\n",
    "        optimizer.step()\n",
    "\n",
    "        if epoch % 500 == 0:\n",
    "            print('Epoch %d, Loss %f' % (epoch, float(loss)))\n",
    "            \n",
    "    return params"
   ]
  },
  {
   "cell_type": "code",
   "execution_count": 14,
   "id": "2d9c4f8c",
   "metadata": {},
   "outputs": [
    {
     "name": "stdout",
     "output_type": "stream",
     "text": [
      "Epoch 500, Loss 3.339180\n",
      "Epoch 1000, Loss 3.338844\n",
      "Epoch 1500, Loss 3.338509\n",
      "Epoch 2000, Loss 3.338173\n",
      "Epoch 2500, Loss 3.337837\n",
      "Epoch 3000, Loss 3.337502\n",
      "Epoch 3500, Loss 3.337167\n",
      "Epoch 4000, Loss 3.336832\n",
      "Epoch 4500, Loss 3.336496\n",
      "Epoch 5000, Loss 3.336161\n"
     ]
    },
    {
     "data": {
      "text/plain": [
       "tensor([0.8538, 1.1358, 1.0763, 1.1192, 1.0304, 0.3580],\n",
       "       requires_grad=True)"
      ]
     },
     "execution_count": 14,
     "metadata": {},
     "output_type": "execute_result"
    }
   ],
   "source": [
    "params = torch.tensor([1.0, 1.0, 1.0, 1.0, 1.0, 0.0], requires_grad=True)\n",
    "learning_rate = 1e-2\n",
    "optimizer = optim.SGD([params], lr=learning_rate) # <1>\n",
    "\n",
    "training_loop(\n",
    "    n_epochs = 5000, \n",
    "    optimizer = optimizer,\n",
    "    params = params, # <1> \n",
    "    t_u = t_un,\n",
    "    t_c = t_c)"
   ]
  },
  {
   "cell_type": "code",
   "execution_count": 15,
   "id": "310293b2",
   "metadata": {},
   "outputs": [
    {
     "data": {
      "text/plain": [
       "(tensor([251, 317,   9,  49, 282,  43, 378, 439,  10, 211, 502, 463, 342,\n",
       "          96, 154, 428, 131, 180, 385, 475, 134, 168, 377,  89, 293,  59,\n",
       "          61, 498, 160, 274, 487, 173, 473,  90, 189, 345, 311, 132, 397,\n",
       "           7, 480, 220, 231, 405, 423, 520,  47, 228, 539, 320, 275, 404,\n",
       "          41, 223,  40, 306, 261,  93, 540, 140, 267, 153,  77, 324, 162,\n",
       "         203, 353, 158, 448, 297,  81, 406, 235, 219, 490, 348,  94, 398,\n",
       "         187, 522,  35, 259, 289, 410,  66, 195,  80, 481, 105, 217, 115,\n",
       "         253, 323, 159, 412, 531, 505, 497, 126, 387, 214, 447, 122, 269,\n",
       "          28,   6, 149, 233, 529, 308, 425, 367, 426,  13, 336, 243, 114,\n",
       "          22, 476, 375, 143, 215, 230, 161,  19, 437, 110, 421, 364, 543,\n",
       "         507, 157, 225, 183, 196, 363,  53, 213, 532, 307, 186,  85, 291,\n",
       "          20, 112, 310, 366,  44, 239, 411, 155, 456, 144, 104, 101, 432,\n",
       "         244, 373, 393, 209,  42, 240, 526, 523, 440, 334, 332, 449, 167,\n",
       "         221, 453, 326,  38, 331,  91, 229, 495, 236,  71, 319,  68, 455,\n",
       "         255, 292, 376, 533, 258, 403, 383,  88, 358, 339,   1, 350, 113,\n",
       "         474, 262, 190, 352, 349,  99, 419, 212, 125, 395, 427, 401,  72,\n",
       "         137, 462, 510, 431, 408, 279, 451, 417,  25, 491, 524, 256, 194,\n",
       "         489, 305, 247, 151, 386,   0, 536, 381, 509, 374, 330, 496, 241,\n",
       "          15, 249, 208, 392,  92, 277, 430, 128, 316, 179, 288, 518, 335,\n",
       "         514,  14, 124, 138,  74, 145,  55, 133,  52, 460, 483, 119, 357,\n",
       "         470, 152, 478, 100, 191, 201, 512, 237, 329, 106, 181, 280, 506,\n",
       "         488, 479,   5,  21, 504,  97, 414, 266, 129, 135, 391, 207,  32,\n",
       "         340, 472, 111, 164, 127, 174, 369, 163, 361,  31,  64, 359, 130,\n",
       "          48, 337, 530,  29, 409, 321, 226,  79, 283, 260, 281, 500,  57,\n",
       "         150, 202, 384, 471, 197, 467, 139, 415, 169, 347,  60,  36, 300,\n",
       "         422, 341, 170, 541, 290, 148, 371,  30,  11, 177, 204, 484, 304,\n",
       "         482, 402,  95, 294, 252, 222, 108, 172, 165, 218, 544,   3, 362,\n",
       "          51, 534, 166,  62, 206, 517, 327, 118,  65, 302,  23, 117, 185,\n",
       "         441,  98, 146, 182, 136, 444, 175, 443, 123, 141, 537, 271, 360,\n",
       "         192, 312, 450, 519, 242, 525, 338,  63, 445, 469,  34, 370, 227,\n",
       "         116, 400, 245, 528, 465, 356, 224, 454, 438,  37,  18, 238, 295,\n",
       "         538,  50, 198, 452, 299,  78, 313,  87,  26, 407, 248, 193, 103,\n",
       "         107, 499, 333, 521, 503, 424, 270,  84, 176,  75, 413, 493, 513,\n",
       "         355, 142, 379, 436, 351,   8, 109]),\n",
       " tensor([ 76, 399,  70, 388, 442, 435, 429,  17,  12, 199, 461, 354, 121,\n",
       "         285, 434, 265, 468,  54, 457, 278, 184, 486, 382, 508, 372,  46,\n",
       "         494, 284, 511, 501,  86, 315, 458,  27,  83,  58, 365, 322, 147,\n",
       "          69, 446,  39, 390, 477, 188, 309, 314, 389, 464, 254, 301, 263,\n",
       "         102, 287, 298, 120,  45, 234, 343, 396, 276,  33, 296, 515, 257,\n",
       "         535, 246, 264,  16, 328,  73, 250, 272, 527,  82,  24, 325, 394,\n",
       "         268, 210,  67, 346, 459, 516,  56, 200, 485, 418, 542, 216, 368,\n",
       "         178, 286, 433,   2, 171,   4, 205, 416, 232, 318, 420, 344, 380,\n",
       "         466, 156, 273, 492, 303]))"
      ]
     },
     "execution_count": 15,
     "metadata": {},
     "output_type": "execute_result"
    }
   ],
   "source": [
    "#Declaring the indices for the training and validation data which is randomly assigned \n",
    "n_samples = t_u.shape[1]\n",
    "n_val = int(0.2 * n_samples)\n",
    "\n",
    "shuffled_indices = torch.randperm(n_samples)\n",
    "\n",
    "train_indices = shuffled_indices[:-n_val]\n",
    "val_indices = shuffled_indices[-n_val:]\n",
    "\n",
    "train_indices, val_indices  # <1>"
   ]
  },
  {
   "cell_type": "code",
   "execution_count": 16,
   "id": "fbb10299",
   "metadata": {},
   "outputs": [],
   "source": [
    "train_t_u = t_u[:, train_indices]\n",
    "train_t_c = t_c[train_indices]\n",
    "\n",
    "val_t_u = t_u[:, val_indices]\n",
    "val_t_c = t_c[val_indices]\n",
    "\n",
    "train_t_un = 0.1 * train_t_u\n",
    "val_t_un = 0.1 * val_t_u"
   ]
  },
  {
   "cell_type": "code",
   "execution_count": 17,
   "id": "94f8a8ee",
   "metadata": {},
   "outputs": [],
   "source": [
    "def training_loop(n_epochs, optimizer, params, train_t_u, val_t_u,\n",
    "                  train_t_c, val_t_c):\n",
    "    for epoch in range(1, n_epochs + 1):\n",
    "        train_t_p = model(train_t_u, *params) # <1>\n",
    "        train_loss = loss_fn(train_t_p, train_t_c)\n",
    "                             \n",
    "        val_t_p = model(val_t_u, *params) # <1>\n",
    "        val_loss = loss_fn(val_t_p, val_t_c)\n",
    "        \n",
    "        optimizer.zero_grad()\n",
    "        train_loss.backward() # <2>\n",
    "        optimizer.step()\n",
    "\n",
    "        if epoch % 500 == 0:\n",
    "            print(f\"Epoch {epoch}, Training loss {train_loss.item():.4f},\"\n",
    "                  f\" Validation loss {val_loss.item():.4f}\")\n",
    "            \n",
    "    return params"
   ]
  },
  {
   "cell_type": "code",
   "execution_count": 18,
   "id": "6c86b005",
   "metadata": {},
   "outputs": [],
   "source": [
    "def calc_forward(t_u, t_c, is_train):\n",
    "    with torch.set_grad_enabled(is_train):\n",
    "        t_p = model(t_u, *params)\n",
    "        loss = loss_fn(t_p, t_c)\n",
    "    return loss"
   ]
  },
  {
   "cell_type": "code",
   "execution_count": 19,
   "id": "988cef73",
   "metadata": {},
   "outputs": [],
   "source": [
    "                                    #*** LEARNING RATE= 1E-1 ***"
   ]
  },
  {
   "cell_type": "code",
   "execution_count": 20,
   "id": "cd036a9a",
   "metadata": {},
   "outputs": [
    {
     "name": "stdout",
     "output_type": "stream",
     "text": [
      "Epoch 500, Training loss nan, Validation loss nan\n",
      "Epoch 1000, Training loss nan, Validation loss nan\n",
      "Epoch 1500, Training loss nan, Validation loss nan\n",
      "Epoch 2000, Training loss nan, Validation loss nan\n",
      "Epoch 2500, Training loss nan, Validation loss nan\n",
      "Epoch 3000, Training loss nan, Validation loss nan\n",
      "Epoch 3500, Training loss nan, Validation loss nan\n",
      "Epoch 4000, Training loss nan, Validation loss nan\n",
      "Epoch 4500, Training loss nan, Validation loss nan\n",
      "Epoch 5000, Training loss nan, Validation loss nan\n"
     ]
    },
    {
     "data": {
      "text/plain": [
       "tensor([nan, nan, nan, nan, nan, nan], requires_grad=True)"
      ]
     },
     "execution_count": 20,
     "metadata": {},
     "output_type": "execute_result"
    }
   ],
   "source": [
    "params = torch.tensor([1.0, 1.0, 1.0, 1.0, 1.0, 0.0], requires_grad=True)\n",
    "learning_rate = 1e-1\n",
    "optimizer = optim.SGD([params], lr=learning_rate)\n",
    "\n",
    "training_loop(\n",
    "    n_epochs = 5000, \n",
    "    optimizer = optimizer,\n",
    "    params = params,\n",
    "    train_t_u = train_t_un, # <1> \n",
    "    val_t_u = val_t_un, # <1> \n",
    "    train_t_c = train_t_c,\n",
    "    val_t_c = val_t_c)"
   ]
  },
  {
   "cell_type": "code",
   "execution_count": 21,
   "id": "4c76215e",
   "metadata": {},
   "outputs": [],
   "source": [
    "                                #*** LEARNING RATE= 1E-2 ***"
   ]
  },
  {
   "cell_type": "code",
   "execution_count": 22,
   "id": "8697e2b1",
   "metadata": {},
   "outputs": [
    {
     "name": "stdout",
     "output_type": "stream",
     "text": [
      "Epoch 500, Training loss 3.3744, Validation loss 3.2064\n",
      "Epoch 1000, Training loss 3.3741, Validation loss 3.2061\n",
      "Epoch 1500, Training loss 3.3737, Validation loss 3.2058\n",
      "Epoch 2000, Training loss 3.3733, Validation loss 3.2055\n",
      "Epoch 2500, Training loss 3.3730, Validation loss 3.2052\n",
      "Epoch 3000, Training loss 3.3726, Validation loss 3.2049\n",
      "Epoch 3500, Training loss 3.3723, Validation loss 3.2046\n",
      "Epoch 4000, Training loss 3.3719, Validation loss 3.2043\n",
      "Epoch 4500, Training loss 3.3715, Validation loss 3.2040\n",
      "Epoch 5000, Training loss 3.3712, Validation loss 3.2037\n"
     ]
    },
    {
     "data": {
      "text/plain": [
       "tensor([0.8465, 1.1403, 1.0798, 1.1287, 1.0310, 0.3712],\n",
       "       requires_grad=True)"
      ]
     },
     "execution_count": 22,
     "metadata": {},
     "output_type": "execute_result"
    }
   ],
   "source": [
    "params = torch.tensor([1.0, 1.0, 1.0, 1.0, 1.0, 0.0], requires_grad=True)\n",
    "learning_rate = 1e-2\n",
    "optimizer = optim.SGD([params], lr=learning_rate)\n",
    "\n",
    "training_loop(\n",
    "    n_epochs = 5000, \n",
    "    optimizer = optimizer,\n",
    "    params = params,\n",
    "    train_t_u = train_t_un, # <1> \n",
    "    val_t_u = val_t_un, # <1> \n",
    "    train_t_c = train_t_c,\n",
    "    val_t_c = val_t_c)"
   ]
  },
  {
   "cell_type": "code",
   "execution_count": 23,
   "id": "7773e2ab",
   "metadata": {},
   "outputs": [
    {
     "data": {
      "image/png": "[encoded data removed]",
      "text/plain": [
       "<Figure size 432x288 with 1 Axes>"
      ]
     },
     "metadata": {
      "needs_background": "light"
     },
     "output_type": "display_data"
    }
   ],
   "source": [
    "# In my code, i got the least training and validation loss for the learning rate 1e-2. \n",
    "#Hence, I visualized the t_p values obtained from here. The graph has the house index on the x axis and the predicted (blue)\n",
    "# /actual (orange) values of the y-axis. \n",
    "\n",
    "import matplotlib.pyplot as plt\n",
    "torch.Tensor.ndim = property(lambda self: len(self.shape))  # Fix it\n",
    "#plt.ylabel(\"Predicted House Values\")\n",
    "#plt.xlabel(\"Actual House Values\")\n",
    "x = list(range(0, t_u.size(1)))\n",
    "plt.xlabel(\"Number of Houses\")\n",
    "plt.ylabel(\"Predicted/Actual Prices (*10^6)\")\n",
    "plt.plot(x, t_p.detach().numpy())\n",
    "plt.plot(x, t_c)\n",
    "#plt.plot(t_p.detach().numpy(), t_c)  # Works now\n",
    "plt.show()"
   ]
  },
  {
   "cell_type": "code",
   "execution_count": 24,
   "id": "d5ef326e",
   "metadata": {},
   "outputs": [],
   "source": [
    "                                         #*** LEARNING RATE= 1E-3 ***"
   ]
  },
  {
   "cell_type": "code",
   "execution_count": 25,
   "id": "f24e37df",
   "metadata": {},
   "outputs": [
    {
     "name": "stdout",
     "output_type": "stream",
     "text": [
      "Epoch 500, Training loss 3.3748, Validation loss 3.2066\n",
      "Epoch 1000, Training loss 3.3747, Validation loss 3.2066\n",
      "Epoch 1500, Training loss 3.3747, Validation loss 3.2066\n",
      "Epoch 2000, Training loss 3.3747, Validation loss 3.2065\n",
      "Epoch 2500, Training loss 3.3746, Validation loss 3.2065\n",
      "Epoch 3000, Training loss 3.3746, Validation loss 3.2065\n",
      "Epoch 3500, Training loss 3.3745, Validation loss 3.2065\n",
      "Epoch 4000, Training loss 3.3745, Validation loss 3.2064\n",
      "Epoch 4500, Training loss 3.3745, Validation loss 3.2064\n",
      "Epoch 5000, Training loss 3.3744, Validation loss 3.2064\n"
     ]
    },
    {
     "data": {
      "text/plain": [
       "tensor([0.8472, 1.0142, 1.0077, 1.0131, 1.0030, 0.0369],\n",
       "       requires_grad=True)"
      ]
     },
     "execution_count": 25,
     "metadata": {},
     "output_type": "execute_result"
    }
   ],
   "source": [
    "params = torch.tensor([1.0, 1.0, 1.0, 1.0, 1.0, 0.0], requires_grad=True)\n",
    "learning_rate = 1e-3\n",
    "optimizer = optim.SGD([params], lr=learning_rate)\n",
    "\n",
    "training_loop(\n",
    "    n_epochs = 5000, \n",
    "    optimizer = optimizer,\n",
    "    params = params,\n",
    "    train_t_u = train_t_un, # <1> \n",
    "    val_t_u = val_t_un, # <1> \n",
    "    train_t_c = train_t_c,\n",
    "    val_t_c = val_t_c)"
   ]
  },
  {
   "cell_type": "code",
   "execution_count": 26,
   "id": "caa6d4b9",
   "metadata": {},
   "outputs": [],
   "source": [
    "                                 #*** LEARNING RATE= 1E-4 ***"
   ]
  },
  {
   "cell_type": "code",
   "execution_count": 27,
   "id": "e7a0f1d8",
   "metadata": {},
   "outputs": [
    {
     "name": "stdout",
     "output_type": "stream",
     "text": [
      "Epoch 500, Training loss 3.3761, Validation loss 3.1933\n",
      "Epoch 1000, Training loss 3.3748, Validation loss 3.2061\n",
      "Epoch 1500, Training loss 3.3748, Validation loss 3.2066\n",
      "Epoch 2000, Training loss 3.3748, Validation loss 3.2066\n",
      "Epoch 2500, Training loss 3.3748, Validation loss 3.2066\n",
      "Epoch 3000, Training loss 3.3748, Validation loss 3.2066\n",
      "Epoch 3500, Training loss 3.3748, Validation loss 3.2066\n",
      "Epoch 4000, Training loss 3.3748, Validation loss 3.2066\n",
      "Epoch 4500, Training loss 3.3748, Validation loss 3.2066\n",
      "Epoch 5000, Training loss 3.3748, Validation loss 3.2066\n"
     ]
    },
    {
     "data": {
      "text/plain": [
       "tensor([0.8473, 1.0011, 1.0006, 1.0012, 1.0005, 0.0035],\n",
       "       requires_grad=True)"
      ]
     },
     "execution_count": 27,
     "metadata": {},
     "output_type": "execute_result"
    }
   ],
   "source": [
    "params = torch.tensor([1.0, 1.0, 1.0, 1.0, 1.0, 0.0], requires_grad=True)\n",
    "learning_rate = 1e-4\n",
    "optimizer = optim.SGD([params], lr=learning_rate)\n",
    "\n",
    "training_loop(\n",
    "    n_epochs = 5000, \n",
    "    optimizer = optimizer,\n",
    "    params = params,\n",
    "    train_t_u = train_t_un, # <1> \n",
    "    val_t_u = val_t_un, # <1> \n",
    "    train_t_c = train_t_c,\n",
    "    val_t_c = val_t_c)"
   ]
  }
 ],
 "metadata": {
  "kernelspec": {
   "display_name": "Python 3 (ipykernel)",
   "language": "python",
   "name": "python3"
  },
  "language_info": {
   "codemirror_mode": {
    "name": "ipython",
    "version": 3
   },
   "file_extension": ".py",
   "mimetype": "text/x-python",
   "name": "python",
   "nbconvert_exporter": "python",
   "pygments_lexer": "ipython3",
   "version": "3.9.7"
  }
 },
 "nbformat": 4,
 "nbformat_minor": 5
}
