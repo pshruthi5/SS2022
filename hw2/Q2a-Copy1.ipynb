{
 "cells": [
  {
   "cell_type": "code",
   "execution_count": 1,
   "id": "ee7291b7",
   "metadata": {},
   "outputs": [],
   "source": [
    "# STUDENT NAME: SHRUTHI PASUMARTHI\n",
    "# STUDENT ID: 801218392\n",
    "# HOMEWORK 2 QUESTION 2 PART 1"
   ]
  },
  {
   "cell_type": "code",
   "execution_count": 2,
   "id": "5a31b8b7",
   "metadata": {},
   "outputs": [
    {
     "data": {
      "text/plain": [
       "<torch._C.Generator at 0x1ef501138d0>"
      ]
     },
     "execution_count": 2,
     "metadata": {},
     "output_type": "execute_result"
    }
   ],
   "source": [
    "%matplotlib inline\n",
    "from matplotlib import pyplot as plt\n",
    "import numpy as np\n",
    "import torch\n",
    "from datetime import datetime\n",
    "\n",
    "torch.set_printoptions(edgeitems=2)\n",
    "torch.manual_seed(123)"
   ]
  },
  {
   "cell_type": "code",
   "execution_count": 3,
   "id": "c691b237",
   "metadata": {},
   "outputs": [],
   "source": [
    "class_names = ['airplane','automobile','bird','cat','deer',\n",
    "               'dog','frog','horse','ship','truck']"
   ]
  },
  {
   "cell_type": "code",
   "execution_count": 4,
   "id": "0456479d",
   "metadata": {},
   "outputs": [],
   "source": [
    "from torchvision import datasets, transforms\n",
    "data_path = 'C:/Users/Shruthi/Documents/HWs/RTML/hw2/data'\n",
    "# Here the training set is downloaded as cifar10\n",
    "\n",
    "cifar10 = datasets.CIFAR10(\n",
    "    data_path, train=True, download=False,\n",
    "    transform=transforms.Compose([\n",
    "        transforms.ToTensor(),\n",
    "        transforms.Normalize((0.4915, 0.4823, 0.4468),\n",
    "                             (0.2470, 0.2435, 0.2616))\n",
    "    ]))"
   ]
  },
  {
   "cell_type": "code",
   "execution_count": 5,
   "id": "878cd529",
   "metadata": {},
   "outputs": [],
   "source": [
    "# The validation set is downloaded as cifar10_val\n",
    "cifar10_val = datasets.CIFAR10(\n",
    "    data_path, train=False, download=False,\n",
    "    transform=transforms.Compose([\n",
    "        transforms.ToTensor(),\n",
    "        transforms.Normalize((0.4915, 0.4823, 0.4468),\n",
    "                             (0.2470, 0.2435, 0.2616))\n",
    "    ]))"
   ]
  },
  {
   "cell_type": "code",
   "execution_count": 6,
   "id": "dc0e8e5e",
   "metadata": {},
   "outputs": [],
   "source": [
    "#The training set is defined as train_loader\n",
    "train_loader = torch.utils.data.DataLoader(cifar10, batch_size=64,\n",
    "                                           shuffle=False)\n"
   ]
  },
  {
   "cell_type": "code",
   "execution_count": 7,
   "id": "2cc05a3a",
   "metadata": {},
   "outputs": [],
   "source": [
    "#The validation set is defined as val_loader\n",
    "val_loader = torch.utils.data.DataLoader(cifar10_val, batch_size=64,\n",
    "                                         shuffle=False)"
   ]
  },
  {
   "cell_type": "code",
   "execution_count": 8,
   "id": "a4167b13",
   "metadata": {
    "scrolled": false
   },
   "outputs": [
    {
     "name": "stdout",
     "output_type": "stream",
     "text": [
      "04/03/2022 15:37:54 Epoch: 0, Loss: 5.594575\n",
      "04/03/2022 15:44:09 Epoch: 10, Loss: 4.987674\n",
      "04/03/2022 15:49:30 Epoch: 20, Loss: 4.874089\n",
      "04/03/2022 15:54:53 Epoch: 30, Loss: 4.816841\n",
      "04/03/2022 16:00:17 Epoch: 40, Loss: 4.775402\n",
      "04/03/2022 16:05:40 Epoch: 50, Loss: 4.741124\n",
      "04/03/2022 16:11:05 Epoch: 60, Loss: 4.711203\n",
      "04/03/2022 16:16:29 Epoch: 70, Loss: 4.684415\n",
      "04/03/2022 16:21:52 Epoch: 80, Loss: 4.659861\n",
      "04/03/2022 16:27:16 Epoch: 90, Loss: 4.637509\n",
      "04/03/2022 16:32:35 Epoch: 100, Loss: 4.616911\n",
      "04/03/2022 16:37:54 Epoch: 110, Loss: 4.597909\n",
      "04/03/2022 16:43:13 Epoch: 120, Loss: 4.580303\n",
      "04/03/2022 16:48:34 Epoch: 130, Loss: 4.564059\n",
      "04/03/2022 16:54:01 Epoch: 140, Loss: 4.549096\n",
      "04/03/2022 16:59:16 Epoch: 150, Loss: 4.535290\n",
      "04/03/2022 17:04:37 Epoch: 160, Loss: 4.522552\n",
      "04/03/2022 17:10:10 Epoch: 170, Loss: 4.510741\n",
      "04/03/2022 17:15:39 Epoch: 180, Loss: 4.499753\n",
      "04/03/2022 17:21:00 Epoch: 190, Loss: 4.489542\n",
      "04/03/2022 17:26:22 Epoch: 200, Loss: 4.480021\n",
      "04/03/2022 17:31:49 Epoch: 210, Loss: 4.471137\n",
      "04/03/2022 17:37:10 Epoch: 220, Loss: 4.462844\n",
      "04/03/2022 17:42:34 Epoch: 230, Loss: 4.455110\n",
      "04/03/2022 17:48:01 Epoch: 240, Loss: 4.447923\n",
      "04/03/2022 17:53:25 Epoch: 250, Loss: 4.441252\n",
      "04/03/2022 17:58:52 Epoch: 260, Loss: 4.435053\n",
      "04/03/2022 18:04:16 Epoch: 270, Loss: 4.429299\n",
      "04/03/2022 18:09:42 Epoch: 280, Loss: 4.423962\n",
      "04/03/2022 18:15:10 Epoch: 290, Loss: 4.419016\n",
      "Accuracy in Training:  0.28828793333333336\n"
     ]
    }
   ],
   "source": [
    "import torch\n",
    "import torch.nn as nn\n",
    "import torch.optim as optim\n",
    "\n",
    "# The first model with one hidden layer\n",
    "\n",
    "model1 = nn.Sequential(\n",
    "            nn.Linear(3072, 512),\n",
    "            nn.Tanh(),\n",
    "            nn.LogSoftmax(dim=1))\n",
    "\n",
    "learning_rate = 1e-2\n",
    "\n",
    "optimizer = optim.SGD(model1.parameters(), lr=learning_rate)\n",
    "\n",
    "loss_fn = nn.NLLLoss()\n",
    "\n",
    "n_epochs = 300\n",
    "\n",
    "correctt = 0\n",
    "totalt = 0\n",
    "\n",
    "for epoch in range(n_epochs):\n",
    "    for img, label in train_loader:\n",
    "        out = model1(img.view((img.shape[0], -1)))\n",
    "        loss = loss_fn(out, label)\n",
    "                \n",
    "        optimizer.zero_grad()\n",
    "        loss.backward()\n",
    "        optimizer.step()\n",
    "    if epoch==0 or epoch % 10 ==0:\n",
    "        now = datetime.now()\n",
    "        dt_string = now.strftime(\"%d/%m/%Y %H:%M:%S\")\n",
    "        print(dt_string, \"Epoch: %d, Loss: %f\" % (epoch, float(loss)))\n",
    "    \n",
    "    with torch.no_grad():\n",
    "        for img, label in train_loader:\n",
    "            out = model1(img.view((img.shape[0], -1)))\n",
    "            _, predicted = torch.max(out, dim=1)\n",
    "            totalt += label.shape[0]\n",
    "            correctt += int((predicted == label).sum())\n",
    "            acctt = float(correctt/totalt)\n",
    "print(\"Accuracy in Training: \",acctt)\n",
    "    "
   ]
  },
  {
   "cell_type": "code",
   "execution_count": 9,
   "id": "d1ecdcdf",
   "metadata": {},
   "outputs": [
    {
     "name": "stdout",
     "output_type": "stream",
     "text": [
      "Loss: 4.509801\n",
      "Accuracy: 0.267900\n"
     ]
    }
   ],
   "source": [
    "# Calculating the accuracy for the validation set in the model1\n",
    "\n",
    "correct = 0\n",
    "total = 0\n",
    "\n",
    "with torch.no_grad():\n",
    "    for imgs, labels in val_loader:\n",
    "        outputs = model1(imgs.view(imgs.shape[0], -1))\n",
    "        loss = loss_fn(outputs, labels)\n",
    "        _, predicted = torch.max(outputs, dim=1)\n",
    "        total += labels.shape[0]\n",
    "        correct += int((predicted == labels).sum())\n",
    "print(\"Loss: %f\" % (loss))        \n",
    "print(\"Accuracy: %f\" % (correct / total))"
   ]
  }
 ],
 "metadata": {
  "kernelspec": {
   "display_name": "Python 3 (ipykernel)",
   "language": "python",
   "name": "python3"
  },
  "language_info": {
   "codemirror_mode": {
    "name": "ipython",
    "version": 3
   },
   "file_extension": ".py",
   "mimetype": "text/x-python",
   "name": "python",
   "nbconvert_exporter": "python",
   "pygments_lexer": "ipython3",
   "version": "3.9.7"
  }
 },
 "nbformat": 4,
 "nbformat_minor": 5
}
