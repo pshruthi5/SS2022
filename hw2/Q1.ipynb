{
 "cells": [
  {
   "cell_type": "code",
   "execution_count": null,
   "id": "5ba26eda",
   "metadata": {},
   "outputs": [],
   "source": [
    "# STUDENT NAME: SHRUTHI PASUMARTHI\n",
    "# STUDENT ID: 801218392\n",
    "# HOMEWORK 2 QUESTION 1"
   ]
  },
  {
   "cell_type": "code",
   "execution_count": 1,
   "id": "307beb68",
   "metadata": {},
   "outputs": [],
   "source": [
    "%matplotlib inline\n",
    "import numpy as np\n",
    "import torch\n",
    "import torch.optim as optim\n",
    "import pandas as pd \n",
    "import math\n",
    "from datetime import datetime\n",
    "torch.set_printoptions(edgeitems=2, linewidth=75)"
   ]
  },
  {
   "cell_type": "code",
   "execution_count": 2,
   "id": "3924156f",
   "metadata": {},
   "outputs": [
    {
     "data": {
      "text/plain": [
       "(545, 13)"
      ]
     },
     "execution_count": 2,
     "metadata": {},
     "output_type": "execute_result"
    }
   ],
   "source": [
    "# Obtaining the housing data as given in the sample code\n",
    "housing = pd.DataFrame(pd.read_csv(\"C:/Users/Shruthi/Documents/HWs/RTML/hw1/images/Housing.csv\")) \n",
    "#housing.head() \n",
    "housing\n",
    "housing.shape"
   ]
  },
  {
   "cell_type": "code",
   "execution_count": 3,
   "id": "2a3c5a6f",
   "metadata": {},
   "outputs": [
    {
     "data": {
      "text/html": [
       "<div>\n",
       "<style scoped>\n",
       "    .dataframe tbody tr th:only-of-type {\n",
       "        vertical-align: middle;\n",
       "    }\n",
       "\n",
       "    .dataframe tbody tr th {\n",
       "        vertical-align: top;\n",
       "    }\n",
       "\n",
       "    .dataframe thead th {\n",
       "        text-align: right;\n",
       "    }\n",
       "</style>\n",
       "<table border=\"1\" class=\"dataframe\">\n",
       "  <thead>\n",
       "    <tr style=\"text-align: right;\">\n",
       "      <th></th>\n",
       "      <th>area</th>\n",
       "      <th>bedrooms</th>\n",
       "      <th>bathrooms</th>\n",
       "      <th>stories</th>\n",
       "      <th>parking</th>\n",
       "      <th>price</th>\n",
       "    </tr>\n",
       "  </thead>\n",
       "  <tbody>\n",
       "    <tr>\n",
       "      <th>0</th>\n",
       "      <td>7420</td>\n",
       "      <td>4</td>\n",
       "      <td>2</td>\n",
       "      <td>3</td>\n",
       "      <td>2</td>\n",
       "      <td>13300000</td>\n",
       "    </tr>\n",
       "    <tr>\n",
       "      <th>1</th>\n",
       "      <td>8960</td>\n",
       "      <td>4</td>\n",
       "      <td>4</td>\n",
       "      <td>4</td>\n",
       "      <td>3</td>\n",
       "      <td>12250000</td>\n",
       "    </tr>\n",
       "    <tr>\n",
       "      <th>2</th>\n",
       "      <td>9960</td>\n",
       "      <td>3</td>\n",
       "      <td>2</td>\n",
       "      <td>2</td>\n",
       "      <td>2</td>\n",
       "      <td>12250000</td>\n",
       "    </tr>\n",
       "    <tr>\n",
       "      <th>3</th>\n",
       "      <td>7500</td>\n",
       "      <td>4</td>\n",
       "      <td>2</td>\n",
       "      <td>2</td>\n",
       "      <td>3</td>\n",
       "      <td>12215000</td>\n",
       "    </tr>\n",
       "    <tr>\n",
       "      <th>4</th>\n",
       "      <td>7420</td>\n",
       "      <td>4</td>\n",
       "      <td>1</td>\n",
       "      <td>2</td>\n",
       "      <td>2</td>\n",
       "      <td>11410000</td>\n",
       "    </tr>\n",
       "    <tr>\n",
       "      <th>...</th>\n",
       "      <td>...</td>\n",
       "      <td>...</td>\n",
       "      <td>...</td>\n",
       "      <td>...</td>\n",
       "      <td>...</td>\n",
       "      <td>...</td>\n",
       "    </tr>\n",
       "    <tr>\n",
       "      <th>540</th>\n",
       "      <td>3000</td>\n",
       "      <td>2</td>\n",
       "      <td>1</td>\n",
       "      <td>1</td>\n",
       "      <td>2</td>\n",
       "      <td>1820000</td>\n",
       "    </tr>\n",
       "    <tr>\n",
       "      <th>541</th>\n",
       "      <td>2400</td>\n",
       "      <td>3</td>\n",
       "      <td>1</td>\n",
       "      <td>1</td>\n",
       "      <td>0</td>\n",
       "      <td>1767150</td>\n",
       "    </tr>\n",
       "    <tr>\n",
       "      <th>542</th>\n",
       "      <td>3620</td>\n",
       "      <td>2</td>\n",
       "      <td>1</td>\n",
       "      <td>1</td>\n",
       "      <td>0</td>\n",
       "      <td>1750000</td>\n",
       "    </tr>\n",
       "    <tr>\n",
       "      <th>543</th>\n",
       "      <td>2910</td>\n",
       "      <td>3</td>\n",
       "      <td>1</td>\n",
       "      <td>1</td>\n",
       "      <td>0</td>\n",
       "      <td>1750000</td>\n",
       "    </tr>\n",
       "    <tr>\n",
       "      <th>544</th>\n",
       "      <td>3850</td>\n",
       "      <td>3</td>\n",
       "      <td>1</td>\n",
       "      <td>2</td>\n",
       "      <td>0</td>\n",
       "      <td>1750000</td>\n",
       "    </tr>\n",
       "  </tbody>\n",
       "</table>\n",
       "<p>545 rows × 6 columns</p>\n",
       "</div>"
      ],
      "text/plain": [
       "     area  bedrooms  bathrooms  stories  parking     price\n",
       "0    7420         4          2        3        2  13300000\n",
       "1    8960         4          4        4        3  12250000\n",
       "2    9960         3          2        2        2  12250000\n",
       "3    7500         4          2        2        3  12215000\n",
       "4    7420         4          1        2        2  11410000\n",
       "..    ...       ...        ...      ...      ...       ...\n",
       "540  3000         2          1        1        2   1820000\n",
       "541  2400         3          1        1        0   1767150\n",
       "542  3620         2          1        1        0   1750000\n",
       "543  2910         3          1        1        0   1750000\n",
       "544  3850         3          1        2        0   1750000\n",
       "\n",
       "[545 rows x 6 columns]"
      ]
     },
     "execution_count": 3,
     "metadata": {},
     "output_type": "execute_result"
    }
   ],
   "source": [
    "num_vars = ['area', 'bedrooms', 'bathrooms', 'stories', 'parking','price'] \n",
    "Newtrain = housing[num_vars] \n",
    "Newtrain"
   ]
  },
  {
   "cell_type": "code",
   "execution_count": 4,
   "id": "0a00b39e",
   "metadata": {},
   "outputs": [
    {
     "name": "stdout",
     "output_type": "stream",
     "text": [
      "545\n",
      "6\n"
     ]
    },
    {
     "data": {
      "text/plain": [
       "6"
      ]
     },
     "execution_count": 4,
     "metadata": {},
     "output_type": "execute_result"
    }
   ],
   "source": [
    "#Randomly shuffling the rows, to give the model a more random data\n",
    "t_an = Newtrain.to_numpy()\n",
    "t_an.shape\n",
    "row=t_an.shape[0]\n",
    "column=t_an.shape[1]\n",
    "print(row)\n",
    "print(column)\n",
    "column"
   ]
  },
  {
   "cell_type": "code",
   "execution_count": 5,
   "id": "a3812749",
   "metadata": {},
   "outputs": [
    {
     "name": "stdout",
     "output_type": "stream",
     "text": [
      "2168.149153321305 0.7373864268686331 0.5020084231005496 0.8666962328697991 0.8607949418951395 1868722.8281312082\n",
      "5150.54128440367 2.9651376146788992 1.2862385321100918 1.8055045871559634 0.6935779816513762 4766729.247706422\n",
      "[[ 1  1  1  1  1  4]\n",
      " [ 1  1  5  2  2  4]\n",
      " [ 2  0  1  0  1  4]\n",
      " ...\n",
      " [ 0 -1  0  0  0 -1]\n",
      " [-1  0  0  0  0 -1]\n",
      " [ 0  0  0  0  0 -1]]\n"
     ]
    }
   ],
   "source": [
    "# Normalizing the data as per the formula in the textbook \n",
    "## P.S. all the operations of the normalization of the dataset are done when the matrix is a numpy array\n",
    "#Standard Deviations of each column\n",
    "std0=np.sqrt(np.var(t_an[:,0], axis=0))\n",
    "std1=np.sqrt(np.var(t_an[:,1], axis=0))\n",
    "std2=np.sqrt(np.var(t_an[:,2], axis=0))\n",
    "std3=np.sqrt(np.var(t_an[:,3], axis=0))\n",
    "std4=np.sqrt(np.var(t_an[:,4], axis=0))\n",
    "std5=np.sqrt(np.var(t_an[:,5], axis=0))\n",
    "#Mean of each column\n",
    "mean0=np.mean(t_an[:,0])\n",
    "mean1=np.mean(t_an[:,1])\n",
    "mean2=np.mean(t_an[:,2])\n",
    "mean3=np.mean(t_an[:,3])\n",
    "mean4=np.mean(t_an[:,4])\n",
    "mean5=np.mean(t_an[:,5])\n",
    "#Iterating to get the normalized values in the dataset\n",
    "for r in range (row):\n",
    "    t_an[r, 0]=(t_an[r, 0]-mean0)/std0\n",
    "    t_an[r, 1]=(t_an[r, 1]-mean1)/std1\n",
    "    t_an[r, 2]=(t_an[r, 2]-mean2)/std2\n",
    "    t_an[r, 3]=(t_an[r, 3]-mean3)/std3\n",
    "    t_an[r, 4]=(t_an[r, 4]-mean4)/std4\n",
    "    t_an[r, 5]=(t_an[r, 5]-mean5)/std5\n",
    "\n",
    "print(std0, std1, std2, std3, std4, std5)\n",
    "print(mean0, mean1, mean2, mean3, mean4, mean5)\n",
    "print(t_an)"
   ]
  },
  {
   "cell_type": "code",
   "execution_count": 6,
   "id": "6276c87a",
   "metadata": {},
   "outputs": [
    {
     "name": "stdout",
     "output_type": "stream",
     "text": [
      "(436, 6)\n",
      "(109, 6)\n",
      "torch.Size([436, 5])\n",
      "torch.Size([436, 1])\n",
      "torch.Size([109, 5])\n",
      "torch.Size([109, 1])\n"
     ]
    }
   ],
   "source": [
    "#Splitting the dataset into the training and validation sets, where 80% of the data is the training dataset and the remaining \n",
    "# 20% is the validation set\n",
    "\n",
    "train_size = int(0.8 * row)\n",
    "indices = np.random.permutation(t_an.shape[0])\n",
    "indices.shape\n",
    "training_idx, val_idx = indices[:train_size], indices[train_size:]\n",
    "t_anf = t_an.astype(np.float32)\n",
    "train_data, val_data = t_anf[training_idx,:], t_anf[val_idx,:]\n",
    "print(train_data.shape)\n",
    "print(val_data.shape)\n",
    "\n",
    "t_a1, t_a2, t_a3, t_a4, t_a5, train_labels = train_data.T\n",
    "t_t = (t_a1, t_a2, t_a3, t_a4, t_a5)\n",
    "train_features = np.vstack(t_t)\n",
    "train_features = np.transpose(train_features)\n",
    "train_features = torch.tensor(train_features)\n",
    "train_labels = torch.tensor(train_labels)\n",
    "train_labels = train_labels.unsqueeze(1)\n",
    "print(train_features.shape)\n",
    "print(train_labels.shape)\n",
    "\n",
    "\n",
    "v_a1, v_a2, v_a3, v_a4, v_a5, val_labels = val_data.T\n",
    "v_t = (v_a1, v_a2, v_a3, v_a4, v_a5)\n",
    "val_features = np.vstack(v_t)\n",
    "val_features = np.transpose(val_features)\n",
    "val_features = torch.tensor(val_features)\n",
    "val_labels = torch.tensor(val_labels)\n",
    "val_labels = val_labels.unsqueeze(1)\n",
    "print(val_features.shape)\n",
    "print(val_labels.shape)"
   ]
  },
  {
   "cell_type": "code",
   "execution_count": 7,
   "id": "a1b9247a",
   "metadata": {},
   "outputs": [
    {
     "name": "stdout",
     "output_type": "stream",
     "text": [
      "04/03/2022 02:17:29 Epoch: 0, Loss: 5.475407\n",
      "04/03/2022 02:17:29 Epoch: 10, Loss: 5.473634\n",
      "04/03/2022 02:17:29 Epoch: 20, Loss: 5.471878\n",
      "04/03/2022 02:17:29 Epoch: 30, Loss: 5.470138\n",
      "04/03/2022 02:17:29 Epoch: 40, Loss: 5.468415\n",
      "04/03/2022 02:17:29 Epoch: 50, Loss: 5.466708\n",
      "04/03/2022 02:17:29 Epoch: 60, Loss: 5.465018\n",
      "04/03/2022 02:17:29 Epoch: 70, Loss: 5.463344\n",
      "04/03/2022 02:17:29 Epoch: 80, Loss: 5.461683\n",
      "04/03/2022 02:17:29 Epoch: 90, Loss: 5.460039\n",
      "04/03/2022 02:17:29 Epoch: 100, Loss: 5.458409\n",
      "04/03/2022 02:17:29 Epoch: 110, Loss: 5.456793\n",
      "04/03/2022 02:17:29 Epoch: 120, Loss: 5.455192\n",
      "04/03/2022 02:17:29 Epoch: 130, Loss: 5.453603\n",
      "04/03/2022 02:17:29 Epoch: 140, Loss: 5.452028\n",
      "04/03/2022 02:17:29 Epoch: 150, Loss: 5.450468\n",
      "04/03/2022 02:17:29 Epoch: 160, Loss: 5.448921\n"
     ]
    },
    {
     "name": "stderr",
     "output_type": "stream",
     "text": [
      "C:\\Users\\Shruthi\\anaconda3\\lib\\site-packages\\torch\\nn\\modules\\loss.py:520: UserWarning: Using a target size (torch.Size([436, 1])) that is different to the input size (torch.Size([436, 8])). This will likely lead to incorrect results due to broadcasting. Please ensure they have the same size.\n",
      "  return F.mse_loss(input, target, reduction=self.reduction)\n"
     ]
    },
    {
     "name": "stdout",
     "output_type": "stream",
     "text": [
      "04/03/2022 02:17:29 Epoch: 170, Loss: 5.447390\n",
      "04/03/2022 02:17:29 Epoch: 180, Loss: 5.445871\n",
      "04/03/2022 02:17:29 Epoch: 190, Loss: 5.444367\n",
      "Accuracy: 17.350275\n"
     ]
    }
   ],
   "source": [
    "import torch\n",
    "import torch.nn as nn\n",
    "import torch.optim as optim\n",
    "\n",
    "# The first model, with only one hidden block\n",
    "\n",
    "model = nn.Sequential(\n",
    "            nn.Linear(5,8),\n",
    "            nn.ReLU(), \n",
    "            nn.LogSoftmax(dim=1))\n",
    "\n",
    "learning_rate = 1e-3\n",
    "\n",
    "optimizer = optim.SGD(model.parameters(), lr=learning_rate)\n",
    "\n",
    "out = model(train_features[0,:].unsqueeze(0))\n",
    "\n",
    "\n",
    "loss_fn = nn.MSELoss()\n",
    "\n",
    "n_epochs = 200\n",
    "correct = 0\n",
    "total = 0\n",
    "\n",
    "for epoch in range(n_epochs):\n",
    "    \n",
    "        out = model(train_features)\n",
    "        loss = loss_fn(out,train_labels)\n",
    "                \n",
    "        optimizer.zero_grad()\n",
    "        loss.backward()\n",
    "        optimizer.step()\n",
    "        if epoch==0 or epoch % 10 ==0:\n",
    "            now = datetime.now()\n",
    "            dt_string = now.strftime(\"%d/%m/%Y %H:%M:%S\")\n",
    "            print(dt_string, \"Epoch: %d, Loss: %f\" % (epoch, float(loss)))\n",
    "        _, predicted = torch.max(out, dim=1)\n",
    "        total += val_labels.shape[0]\n",
    "        correct += int((predicted == val_labels).sum())\n",
    "        \n",
    "print(\"Accuracy: %f\" % (correct / total))\n",
    "        \n"
   ]
  },
  {
   "cell_type": "code",
   "execution_count": 8,
   "id": "98914150",
   "metadata": {},
   "outputs": [
    {
     "name": "stdout",
     "output_type": "stream",
     "text": [
      "Epoch: 199, Loss: 5.624659\n",
      "Accuracy: 4.467890\n"
     ]
    },
    {
     "name": "stderr",
     "output_type": "stream",
     "text": [
      "C:\\Users\\Shruthi\\anaconda3\\lib\\site-packages\\torch\\nn\\modules\\loss.py:520: UserWarning: Using a target size (torch.Size([109, 1])) that is different to the input size (torch.Size([109, 8])). This will likely lead to incorrect results due to broadcasting. Please ensure they have the same size.\n",
      "  return F.mse_loss(input, target, reduction=self.reduction)\n"
     ]
    }
   ],
   "source": [
    "#To calculate the accuracy of the validation dataset using the model with one hidden layer \n",
    "\n",
    "correct = 0\n",
    "total = 0\n",
    "\n",
    "with torch.no_grad():\n",
    "    \n",
    "        outputs = model(val_features)\n",
    "        loss = loss_fn(outputs,val_labels)\n",
    "        print(\"Epoch: %d, Loss: %f\" % (epoch, float(loss)))\n",
    "        _, predicted = torch.max(outputs, dim=1)\n",
    "        total += val_labels.shape[0]\n",
    "        correct += int((predicted == val_labels).sum())\n",
    "        \n",
    "print(\"Accuracy: %f\" % (correct / total))"
   ]
  },
  {
   "cell_type": "code",
   "execution_count": null,
   "id": "d2ce501b",
   "metadata": {},
   "outputs": [],
   "source": []
  },
  {
   "cell_type": "code",
   "execution_count": 9,
   "id": "cf7efb0a",
   "metadata": {},
   "outputs": [
    {
     "name": "stdout",
     "output_type": "stream",
     "text": [
      "04/03/2022 02:17:29 Epoch: 0, Loss: 1.099316\n",
      "04/03/2022 02:17:29 Epoch: 10, Loss: 1.099034\n",
      "04/03/2022 02:17:29 Epoch: 20, Loss: 1.098759\n",
      "04/03/2022 02:17:29 Epoch: 30, Loss: 1.098490\n",
      "04/03/2022 02:17:29 Epoch: 40, Loss: 1.098228\n",
      "04/03/2022 02:17:29 Epoch: 50, Loss: 1.097971\n",
      "04/03/2022 02:17:29 Epoch: 60, Loss: 1.097720\n",
      "04/03/2022 02:17:29 Epoch: 70, Loss: 1.097474\n",
      "04/03/2022 02:17:29 Epoch: 80, Loss: 1.097234\n",
      "04/03/2022 02:17:29 Epoch: 90, Loss: 1.096999\n",
      "04/03/2022 02:17:29 Epoch: 100, Loss: 1.096770\n",
      "04/03/2022 02:17:29 Epoch: 110, Loss: 1.096545\n",
      "04/03/2022 02:17:29 Epoch: 120, Loss: 1.096326\n",
      "04/03/2022 02:17:29 Epoch: 130, Loss: 1.096112\n",
      "04/03/2022 02:17:29 Epoch: 140, Loss: 1.095902\n",
      "04/03/2022 02:17:29 Epoch: 150, Loss: 1.095697\n",
      "04/03/2022 02:17:29 Epoch: 160, Loss: 1.095497\n"
     ]
    },
    {
     "name": "stderr",
     "output_type": "stream",
     "text": [
      "C:\\Users\\Shruthi\\anaconda3\\lib\\site-packages\\torch\\nn\\modules\\loss.py:520: UserWarning: Using a target size (torch.Size([436, 1])) that is different to the input size (torch.Size([436, 2])). This will likely lead to incorrect results due to broadcasting. Please ensure they have the same size.\n",
      "  return F.mse_loss(input, target, reduction=self.reduction)\n"
     ]
    },
    {
     "name": "stdout",
     "output_type": "stream",
     "text": [
      "04/03/2022 02:17:29 Epoch: 170, Loss: 1.095301\n",
      "04/03/2022 02:17:29 Epoch: 180, Loss: 1.095110\n",
      "04/03/2022 02:17:29 Epoch: 190, Loss: 1.094923\n",
      "Accuracy: 320.000000\n"
     ]
    }
   ],
   "source": [
    "import torch\n",
    "import torch.nn as nn\n",
    "import torch.optim as optim\n",
    "\n",
    "#The second model, with 3 hidden blocks\n",
    "\n",
    "model = nn.Sequential(\n",
    "            nn.Linear(5,16),\n",
    "            nn.ReLU(),\n",
    "            nn.Linear(16,8),\n",
    "            nn.ReLU(),\n",
    "            nn.Linear(8,2),\n",
    "            nn.ReLU(),\n",
    "            nn.LogSoftmax(dim=1))\n",
    "\n",
    "learning_rate = 1e-3\n",
    "\n",
    "optimizer = optim.SGD(model.parameters(), lr=learning_rate)\n",
    "\n",
    "\n",
    "out = model(train_features[0,:].unsqueeze(0))\n",
    "\n",
    "\n",
    "loss_fn = nn.MSELoss()\n",
    "\n",
    "n_epochs = 200\n",
    "correct = 0\n",
    "total = 0\n",
    "\n",
    "for epoch in range(n_epochs):\n",
    "    \n",
    "        out = model(train_features)\n",
    "        loss = loss_fn(out,train_labels)\n",
    "                \n",
    "        optimizer.zero_grad()\n",
    "        loss.backward()\n",
    "        optimizer.step()\n",
    "        if epoch==0 or epoch % 10 ==0:\n",
    "            now = datetime.now()\n",
    "            dt_string = now.strftime(\"%d/%m/%Y %H:%M:%S\")\n",
    "            print(dt_string, \"Epoch: %d, Loss: %f\" % (epoch, float(loss)))\n",
    "        _, predicted = torch.max(out, dim=1)\n",
    "        total += val_labels.shape[0]\n",
    "        correct += int((predicted == val_labels).sum())\n",
    "        \n",
    "print(\"Accuracy: %f\" % (correct / total))"
   ]
  },
  {
   "cell_type": "code",
   "execution_count": 10,
   "id": "5108424d",
   "metadata": {},
   "outputs": [
    {
     "name": "stdout",
     "output_type": "stream",
     "text": [
      "Epoch: 199, Loss: 1.228506\n",
      "Accuracy: 80.000000\n"
     ]
    },
    {
     "name": "stderr",
     "output_type": "stream",
     "text": [
      "C:\\Users\\Shruthi\\anaconda3\\lib\\site-packages\\torch\\nn\\modules\\loss.py:520: UserWarning: Using a target size (torch.Size([109, 1])) that is different to the input size (torch.Size([109, 2])). This will likely lead to incorrect results due to broadcasting. Please ensure they have the same size.\n",
      "  return F.mse_loss(input, target, reduction=self.reduction)\n"
     ]
    }
   ],
   "source": [
    "#To calculate the accuracy of the validation dataset using the model with three hidden layers \n",
    "\n",
    "correct = 0\n",
    "total = 0\n",
    "\n",
    "with torch.no_grad():\n",
    "    \n",
    "        outputs = model(val_features)\n",
    "        loss = loss_fn(outputs,val_labels)\n",
    "        print(\"Epoch: %d, Loss: %f\" % (epoch, float(loss)))\n",
    "        _, predicted = torch.max(outputs, dim=1)\n",
    "        total += val_labels.shape[0]\n",
    "        correct += int((predicted == val_labels).sum())\n",
    "        \n",
    "print(\"Accuracy: %f\" % (correct / total))"
   ]
  }
 ],
 "metadata": {
  "kernelspec": {
   "display_name": "Python 3 (ipykernel)",
   "language": "python",
   "name": "python3"
  },
  "language_info": {
   "codemirror_mode": {
    "name": "ipython",
    "version": 3
   },
   "file_extension": ".py",
   "mimetype": "text/x-python",
   "name": "python",
   "nbconvert_exporter": "python",
   "pygments_lexer": "ipython3",
   "version": "3.9.7"
  }
 },
 "nbformat": 4,
 "nbformat_minor": 5
}
