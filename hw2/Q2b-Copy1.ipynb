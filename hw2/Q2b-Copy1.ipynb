{
 "cells": [
  {
   "cell_type": "code",
   "execution_count": 1,
   "id": "3c2fe7d0",
   "metadata": {},
   "outputs": [],
   "source": [
    "# STUDENT NAME: SHRUTHI PASUMARTHI\n",
    "# STUDENT ID: 801218392\n",
    "# HOMEWORK 2 QUESTION 2 PART 2"
   ]
  },
  {
   "cell_type": "code",
   "execution_count": 2,
   "id": "c3a08a7f",
   "metadata": {},
   "outputs": [
    {
     "data": {
      "text/plain": [
       "<torch._C.Generator at 0x27559d468d0>"
      ]
     },
     "execution_count": 2,
     "metadata": {},
     "output_type": "execute_result"
    }
   ],
   "source": [
    "%matplotlib inline\n",
    "from matplotlib import pyplot as plt\n",
    "import numpy as np\n",
    "import torch\n",
    "from datetime import datetime\n",
    "\n",
    "torch.set_printoptions(edgeitems=2)\n",
    "torch.manual_seed(123)"
   ]
  },
  {
   "cell_type": "code",
   "execution_count": 3,
   "id": "669b74de",
   "metadata": {},
   "outputs": [],
   "source": [
    "class_names = ['airplane','automobile','bird','cat','deer',\n",
    "               'dog','frog','horse','ship','truck']"
   ]
  },
  {
   "cell_type": "code",
   "execution_count": 4,
   "id": "beeca0af",
   "metadata": {},
   "outputs": [],
   "source": [
    "from torchvision import datasets, transforms\n",
    "data_path = 'C:/Users/Shruthi/Documents/HWs/RTML/hw2/data'\n",
    "\n",
    "# Here the training set is downloaded as cifar10\n",
    "\n",
    "cifar10 = datasets.CIFAR10(\n",
    "    data_path, train=True, download=False,\n",
    "    transform=transforms.Compose([\n",
    "        transforms.ToTensor(),\n",
    "        transforms.Normalize((0.4915, 0.4823, 0.4468),\n",
    "                             (0.2470, 0.2435, 0.2616))\n",
    "    ]))"
   ]
  },
  {
   "cell_type": "code",
   "execution_count": 5,
   "id": "be3d4b01",
   "metadata": {},
   "outputs": [],
   "source": [
    "# The validation set is downloaded as cifar10_val\n",
    "\n",
    "cifar10_val = datasets.CIFAR10(\n",
    "    data_path, train=False, download=False,\n",
    "    transform=transforms.Compose([\n",
    "        transforms.ToTensor(),\n",
    "        transforms.Normalize((0.4915, 0.4823, 0.4468),\n",
    "                             (0.2470, 0.2435, 0.2616))\n",
    "    ]))"
   ]
  },
  {
   "cell_type": "code",
   "execution_count": 6,
   "id": "7eb76728",
   "metadata": {},
   "outputs": [],
   "source": [
    "#The training set is defined as train_loader\n",
    "\n",
    "train_loader = torch.utils.data.DataLoader(cifar10, batch_size=64,\n",
    "                                           shuffle=False)"
   ]
  },
  {
   "cell_type": "code",
   "execution_count": 7,
   "id": "88a2de6a",
   "metadata": {},
   "outputs": [],
   "source": [
    "#The validation set is defined as val_loader\n",
    "\n",
    "val_loader = torch.utils.data.DataLoader(cifar10_val, batch_size=64,\n",
    "                                         shuffle=False)"
   ]
  },
  {
   "cell_type": "code",
   "execution_count": 8,
   "id": "20f58e3b",
   "metadata": {
    "scrolled": false
   },
   "outputs": [
    {
     "name": "stdout",
     "output_type": "stream",
     "text": [
      "04/03/2022 15:39:45 Epoch: 0, Loss: 2.201296\n",
      "04/03/2022 15:44:54 Epoch: 10, Loss: 1.791884\n",
      "04/03/2022 15:50:11 Epoch: 20, Loss: 1.455140\n",
      "04/03/2022 15:55:32 Epoch: 30, Loss: 1.197068\n",
      "04/03/2022 16:00:52 Epoch: 40, Loss: 1.006972\n",
      "04/03/2022 16:06:14 Epoch: 50, Loss: 0.969039\n",
      "04/03/2022 16:11:35 Epoch: 60, Loss: 0.944529\n",
      "04/03/2022 16:16:57 Epoch: 70, Loss: 0.908158\n",
      "04/03/2022 16:22:17 Epoch: 80, Loss: 0.900511\n",
      "04/03/2022 16:27:39 Epoch: 90, Loss: 0.897039\n",
      "04/03/2022 16:32:54 Epoch: 100, Loss: 0.894641\n",
      "04/03/2022 16:38:12 Epoch: 110, Loss: 0.893807\n",
      "04/03/2022 16:43:27 Epoch: 120, Loss: 0.893032\n",
      "04/03/2022 16:48:44 Epoch: 130, Loss: 0.892877\n",
      "04/03/2022 16:54:10 Epoch: 140, Loss: 0.892267\n",
      "04/03/2022 16:59:24 Epoch: 150, Loss: 0.892106\n",
      "04/03/2022 17:04:42 Epoch: 160, Loss: 0.891885\n",
      "04/03/2022 17:10:13 Epoch: 170, Loss: 0.891883\n",
      "04/03/2022 17:15:40 Epoch: 180, Loss: 0.891827\n",
      "04/03/2022 17:20:59 Epoch: 190, Loss: 0.891663\n",
      "04/03/2022 17:26:18 Epoch: 200, Loss: 0.891609\n",
      "04/03/2022 17:31:43 Epoch: 210, Loss: 0.891538\n",
      "04/03/2022 17:37:01 Epoch: 220, Loss: 0.891569\n",
      "04/03/2022 17:42:24 Epoch: 230, Loss: 0.891420\n",
      "04/03/2022 17:47:47 Epoch: 240, Loss: 0.891381\n",
      "04/03/2022 17:53:09 Epoch: 250, Loss: 0.891428\n",
      "04/03/2022 17:58:31 Epoch: 260, Loss: 0.891499\n",
      "04/03/2022 18:03:54 Epoch: 270, Loss: 0.891367\n",
      "04/03/2022 18:09:17 Epoch: 280, Loss: 0.891327\n",
      "04/03/2022 18:14:42 Epoch: 290, Loss: 0.891219\n",
      "Accuracy in Training:  0.8100711333333334\n"
     ]
    }
   ],
   "source": [
    "import torch\n",
    "import torch.nn as nn\n",
    "import torch.optim as optim\n",
    "\n",
    "# The second model with three hidden layers\n",
    "\n",
    "model2 = nn.Sequential(\n",
    "            nn.Linear(3072, 512),\n",
    "            nn.Tanh(),\n",
    "            nn.Linear(512, 128),\n",
    "            nn.Tanh(),\n",
    "            nn.Linear(128, 10),\n",
    "            nn.Tanh(),\n",
    "            nn.LogSoftmax(dim=1))\n",
    "\n",
    "learning_rate = 1e-2\n",
    "\n",
    "optimizer = optim.SGD(model2.parameters(), lr=learning_rate)\n",
    "\n",
    "loss_fn = nn.NLLLoss()\n",
    "\n",
    "n_epochs = 300\n",
    "\n",
    "correctt = 0\n",
    "totalt = 0\n",
    "\n",
    "for epoch in range(n_epochs):\n",
    "    for img, label in train_loader:\n",
    "        out = model2(img.view((img.shape[0], -1)))\n",
    "        loss = loss_fn(out, label)\n",
    "                \n",
    "        optimizer.zero_grad()\n",
    "        loss.backward()\n",
    "        optimizer.step()\n",
    "    if epoch==0 or epoch % 10 ==0:\n",
    "        now = datetime.now()\n",
    "        dt_string = now.strftime(\"%d/%m/%Y %H:%M:%S\")\n",
    "        print(dt_string, \"Epoch: %d, Loss: %f\" % (epoch, float(loss)))\n",
    "    \n",
    "    with torch.no_grad():\n",
    "        for img, label in train_loader:\n",
    "            out = model2(img.view((img.shape[0], -1)))\n",
    "            _, predicted = torch.max(out, dim=1)\n",
    "            totalt += label.shape[0]\n",
    "            correctt += int((predicted == label).sum())\n",
    "            acctt = float(correctt/totalt)\n",
    "print(\"Accuracy in Training: \",acctt)"
   ]
  },
  {
   "cell_type": "code",
   "execution_count": 9,
   "id": "865e2f2e",
   "metadata": {},
   "outputs": [
    {
     "name": "stdout",
     "output_type": "stream",
     "text": [
      "Loss: 2.297452\n",
      "Accuracy: 0.466300\n"
     ]
    }
   ],
   "source": [
    "# Calculating the accuracy for the validation set in the model2\n",
    "\n",
    "correct = 0\n",
    "total = 0\n",
    "\n",
    "with torch.no_grad():\n",
    "    for imgs, labels in val_loader:\n",
    "        outputs = model2(imgs.view(imgs.shape[0], -1))\n",
    "        loss = loss_fn(outputs, labels)\n",
    "        _, predicted = torch.max(outputs, dim=1)\n",
    "        total += labels.shape[0]\n",
    "        correct += int((predicted == labels).sum())\n",
    "print(\"Loss: %f\" % (loss))        \n",
    "print(\"Accuracy: %f\" % (correct / total))"
   ]
  }
 ],
 "metadata": {
  "kernelspec": {
   "display_name": "Python 3 (ipykernel)",
   "language": "python",
   "name": "python3"
  },
  "language_info": {
   "codemirror_mode": {
    "name": "ipython",
    "version": 3
   },
   "file_extension": ".py",
   "mimetype": "text/x-python",
   "name": "python",
   "nbconvert_exporter": "python",
   "pygments_lexer": "ipython3",
   "version": "3.9.7"
  }
 },
 "nbformat": 4,
 "nbformat_minor": 5
}
