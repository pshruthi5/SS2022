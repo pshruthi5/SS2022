{
 "cells": [
  {
   "cell_type": "code",
   "execution_count": null,
   "id": "f2073cf4",
   "metadata": {},
   "outputs": [],
   "source": [
    "#STUDENT NAME: SHRUTHI\n",
    "#STUDENT ID: 801218392\n",
    "#HOMEWORK 3 QUESTION 1-A"
   ]
  },
  {
   "cell_type": "code",
   "execution_count": 1,
   "id": "f7f512d5",
   "metadata": {},
   "outputs": [
    {
     "data": {
      "text/plain": [
       "<torch._C.Generator at 0x1636f6208b0>"
      ]
     },
     "execution_count": 1,
     "metadata": {},
     "output_type": "execute_result"
    }
   ],
   "source": [
    "%matplotlib inline\n",
    "from matplotlib import pyplot as plt\n",
    "import numpy as np\n",
    "import torch\n",
    "import torch.nn as nn\n",
    "import torch.optim as optim\n",
    "\n",
    "from datetime import datetime\n",
    "\n",
    "torch.set_printoptions(edgeitems=2)\n",
    "torch.manual_seed(123)"
   ]
  },
  {
   "cell_type": "code",
   "execution_count": 2,
   "id": "c737880c",
   "metadata": {},
   "outputs": [],
   "source": [
    "class_names = ['airplane','automobile','bird','cat','deer',\n",
    "               'dog','frog','horse','ship','truck']"
   ]
  },
  {
   "cell_type": "code",
   "execution_count": 3,
   "id": "ff0b3c49",
   "metadata": {},
   "outputs": [],
   "source": [
    "from torchvision import datasets, transforms\n",
    "data_path = 'C:/Users/Shruthi/Documents/HWs/RTML/hw2/data'\n",
    "# Here the training set is downloaded as cifar10\n",
    "\n",
    "cifar10 = datasets.CIFAR10(\n",
    "    data_path, train=True, download=False,\n",
    "    transform=transforms.Compose([\n",
    "        transforms.ToTensor(),\n",
    "        transforms.Normalize((0.4915, 0.4823, 0.4468),\n",
    "                             (0.2470, 0.2435, 0.2616))\n",
    "    ]))"
   ]
  },
  {
   "cell_type": "code",
   "execution_count": 4,
   "id": "2de8da67",
   "metadata": {},
   "outputs": [],
   "source": [
    "# The validation set is downloaded as cifar10_val\n",
    "cifar10_val = datasets.CIFAR10(\n",
    "    data_path, train=False, download=False,\n",
    "    transform=transforms.Compose([\n",
    "        transforms.ToTensor(),\n",
    "        transforms.Normalize((0.4915, 0.4823, 0.4468),\n",
    "                             (0.2470, 0.2435, 0.2616))\n",
    "    ]))"
   ]
  },
  {
   "cell_type": "code",
   "execution_count": 5,
   "id": "bce3a203",
   "metadata": {},
   "outputs": [],
   "source": [
    "#The training set is defined as train_loader\n",
    "train_loader = torch.utils.data.DataLoader(cifar10, batch_size=64,\n",
    "                                           shuffle=False)"
   ]
  },
  {
   "cell_type": "code",
   "execution_count": 6,
   "id": "55b80e19",
   "metadata": {},
   "outputs": [],
   "source": [
    "#The validation set is defined as val_loader\n",
    "val_loader = torch.utils.data.DataLoader(cifar10_val, batch_size=64,\n",
    "                                         shuffle=False)"
   ]
  },
  {
   "cell_type": "code",
   "execution_count": 7,
   "id": "eaf5f529",
   "metadata": {},
   "outputs": [],
   "source": [
    "model1 = nn.Sequential(\n",
    "            nn.Conv2d(3, 16, kernel_size=3, padding=1),\n",
    "            nn.ReLU(),\n",
    "            nn.MaxPool2d(kernel_size=2),\n",
    "            nn.Flatten(),\n",
    "            nn.Linear(4096, 64),\n",
    "            nn.LogSoftmax(dim=1))"
   ]
  },
  {
   "cell_type": "code",
   "execution_count": 8,
   "id": "1d1f9005",
   "metadata": {},
   "outputs": [],
   "source": [
    "def training_loop(n_epochs, optimizer, model, loss_fn, train_loader):\n",
    "\n",
    "    correctt = 0\n",
    "    totalt = 0\n",
    "    \n",
    "    for epoch in range (1, n_epochs+1):\n",
    "        loss_train=0.0\n",
    "        for imgs, labels in train_loader:\n",
    "            outputs= model(imgs)\n",
    "            loss=loss_fn(outputs, labels)\n",
    "            optimizer.zero_grad()\n",
    "            loss.backward()\n",
    "            optimizer.step()\n",
    "            loss_train+=loss.item()\n",
    "            \n",
    "        if epoch ==1 or epoch % 10==0:\n",
    "            now = datetime.now()\n",
    "            dt_string = now.strftime(\"%d/%m/%Y %H:%M:%S\")\n",
    "            print(dt_string, \"Epoch: %d, Loss: %f\" % (epoch, float(loss)))\n",
    "            \n",
    "        with torch.no_grad():\n",
    "            for imgs, labels in train_loader:\n",
    "                outputs = model(imgs)\n",
    "                _, predicted = torch.max(outputs, dim=1)\n",
    "            totalt += labels.shape[0]\n",
    "            correctt += int((predicted == labels).sum())\n",
    "            acctt = float(correctt/totalt)\n",
    "    print(\"Accuracy in Training: \",acctt)"
   ]
  },
  {
   "cell_type": "code",
   "execution_count": 9,
   "id": "30e8eaea",
   "metadata": {},
   "outputs": [
    {
     "name": "stdout",
     "output_type": "stream",
     "text": [
      "23/03/2022 20:40:56 Epoch: 1, Loss: 2.135571\n",
      "23/03/2022 20:45:09 Epoch: 10, Loss: 1.198534\n",
      "23/03/2022 20:49:54 Epoch: 20, Loss: 0.981306\n",
      "23/03/2022 20:54:38 Epoch: 30, Loss: 0.818489\n",
      "23/03/2022 20:59:05 Epoch: 40, Loss: 0.725313\n",
      "23/03/2022 21:03:30 Epoch: 50, Loss: 0.663042\n",
      "23/03/2022 21:08:03 Epoch: 60, Loss: 0.619448\n",
      "23/03/2022 21:12:40 Epoch: 70, Loss: 0.587649\n",
      "23/03/2022 21:17:08 Epoch: 80, Loss: 0.561599\n",
      "23/03/2022 21:21:47 Epoch: 90, Loss: 0.531873\n",
      "23/03/2022 21:26:25 Epoch: 100, Loss: 0.504572\n",
      "23/03/2022 21:30:56 Epoch: 110, Loss: 0.481386\n",
      "23/03/2022 21:35:40 Epoch: 120, Loss: 0.458986\n",
      "23/03/2022 21:40:26 Epoch: 130, Loss: 0.440421\n",
      "23/03/2022 21:45:16 Epoch: 140, Loss: 0.420034\n",
      "23/03/2022 21:50:14 Epoch: 150, Loss: 0.402287\n",
      "23/03/2022 21:55:15 Epoch: 160, Loss: 0.383797\n",
      "23/03/2022 22:00:12 Epoch: 170, Loss: 0.370682\n",
      "23/03/2022 22:05:02 Epoch: 180, Loss: 0.359127\n",
      "23/03/2022 22:10:03 Epoch: 190, Loss: 0.344010\n",
      "23/03/2022 22:15:03 Epoch: 200, Loss: 0.333038\n",
      "23/03/2022 22:19:56 Epoch: 210, Loss: 0.324939\n",
      "23/03/2022 22:24:48 Epoch: 220, Loss: 0.315880\n",
      "23/03/2022 22:29:37 Epoch: 230, Loss: 0.307759\n",
      "23/03/2022 22:34:25 Epoch: 240, Loss: 0.302159\n",
      "23/03/2022 22:39:16 Epoch: 250, Loss: 0.295781\n",
      "23/03/2022 22:44:06 Epoch: 260, Loss: 0.289197\n",
      "23/03/2022 22:48:56 Epoch: 270, Loss: 0.282586\n",
      "23/03/2022 22:53:48 Epoch: 280, Loss: 0.273627\n",
      "23/03/2022 22:58:39 Epoch: 290, Loss: 0.269989\n",
      "23/03/2022 23:04:24 Epoch: 300, Loss: 0.264811\n",
      "Accuracy in Training:  0.9795833333333334\n"
     ]
    }
   ],
   "source": [
    "optimizer = optim.SGD(model1.parameters(), lr=1e-2)\n",
    "loss_fn = nn.CrossEntropyLoss()\n",
    "\n",
    "training_loop(\n",
    "    n_epochs = 300,\n",
    "    optimizer = optimizer,\n",
    "    model = model1,\n",
    "    loss_fn = loss_fn,\n",
    "    train_loader = train_loader)"
   ]
  },
  {
   "cell_type": "code",
   "execution_count": 10,
   "id": "0b997990",
   "metadata": {},
   "outputs": [
    {
     "name": "stdout",
     "output_type": "stream",
     "text": [
      "Accuracy in Validation:  0.6875\n"
     ]
    }
   ],
   "source": [
    "def validate(model, train_loader, val_loader):\n",
    "    for name, loader in [(\"train\", train_loader), (\"val\", val_loader)]:\n",
    "        correctv = 0\n",
    "        totalv = 0\n",
    "        \n",
    "        with torch.no_grad():\n",
    "            for imgs, labels in val_loader:\n",
    "                outputs = model(imgs)\n",
    "                _, predicted = torch.max(outputs, dim=1)\n",
    "            totalv += labels.shape[0]\n",
    "            correctv += int((predicted == labels).sum())\n",
    "            acctv = float(correctv/totalv)\n",
    "    print(\"Accuracy in Validation: \",acctv)\n",
    "validate (model1, train_loader, val_loader)"
   ]
  },
  {
   "cell_type": "code",
   "execution_count": 12,
   "id": "096796a5",
   "metadata": {},
   "outputs": [
    {
     "name": "stdout",
     "output_type": "stream",
     "text": [
      "Warning: variables __flops__ or __params__ are already defined for the moduleConv2d ptflops can affect your code!\n",
      "Warning: variables __flops__ or __params__ are already defined for the moduleReLU ptflops can affect your code!\n",
      "Warning: variables __flops__ or __params__ are already defined for the moduleMaxPool2d ptflops can affect your code!\n",
      "Warning: variables __flops__ or __params__ are already defined for the moduleLinear ptflops can affect your code!\n",
      "Warning: module Flatten is treated as a zero-op.\n",
      "Warning: module LogSoftmax is treated as a zero-op.\n",
      "Sequential(\n",
      "  0.263 M, 100.000% Params, 0.001 GMac, 100.000% MACs, \n",
      "  (0): Conv2d(0.0 M, 0.171% Params, 0.0 GMac, 60.864% MACs, 3, 16, kernel_size=(3, 3), stride=(1, 1), padding=(1, 1))\n",
      "  (1): ReLU(0.0 M, 0.000% Params, 0.0 GMac, 2.174% MACs, )\n",
      "  (2): MaxPool2d(0.0 M, 0.000% Params, 0.0 GMac, 2.174% MACs, kernel_size=2, stride=2, padding=0, dilation=1, ceil_mode=False)\n",
      "  (3): Flatten(0.0 M, 0.000% Params, 0.0 GMac, 0.000% MACs, start_dim=1, end_dim=-1)\n",
      "  (4): Linear(0.262 M, 99.829% Params, 0.0 GMac, 34.788% MACs, in_features=4096, out_features=64, bias=True)\n",
      "  (5): LogSoftmax(0.0 M, 0.000% Params, 0.0 GMac, 0.000% MACs, dim=1)\n",
      ")\n",
      "Computational complexity:       0.0 GMac\n",
      "Number of parameters:           262.66 k\n"
     ]
    }
   ],
   "source": [
    "import torchvision.models as models\n",
    "from ptflops import get_model_complexity_info\n",
    "\n",
    "net = model1\n",
    "macs, params = get_model_complexity_info(net, (3, 32, 32), as_strings=True,\n",
    "                                           print_per_layer_stat=True, verbose=True)\n",
    "print('{:<30}  {:<8}'.format('Computational complexity: ', macs))\n",
    "print('{:<30}  {:<8}'.format('Number of parameters: ', params))"
   ]
  },
  {
   "cell_type": "code",
   "execution_count": 13,
   "id": "89a9b860",
   "metadata": {},
   "outputs": [
    {
     "data": {
      "text/plain": [
       "(262656, [432, 16, 262144, 64])"
      ]
     },
     "execution_count": 13,
     "metadata": {},
     "output_type": "execute_result"
    }
   ],
   "source": [
    "numel_list = [p.numel() for p in model1.parameters()]\n",
    "sum(numel_list), numel_list"
   ]
  }
 ],
 "metadata": {
  "kernelspec": {
   "display_name": "Python 3 (ipykernel)",
   "language": "python",
   "name": "python3"
  },
  "language_info": {
   "codemirror_mode": {
    "name": "ipython",
    "version": 3
   },
   "file_extension": ".py",
   "mimetype": "text/x-python",
   "name": "python",
   "nbconvert_exporter": "python",
   "pygments_lexer": "ipython3",
   "version": "3.9.7"
  }
 },
 "nbformat": 4,
 "nbformat_minor": 5
}
