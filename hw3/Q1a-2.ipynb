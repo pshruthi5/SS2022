{
 "cells": [
  {
   "cell_type": "code",
   "execution_count": 1,
   "id": "f2073cf4",
   "metadata": {},
   "outputs": [],
   "source": [
    "#STUDENT NAME: SHRUTHI\n",
    "#STUDENT ID: 801218392\n",
    "#HOMEWORK 3 QUESTION 1-A"
   ]
  },
  {
   "cell_type": "code",
   "execution_count": 2,
   "id": "f7f512d5",
   "metadata": {},
   "outputs": [
    {
     "data": {
      "text/plain": [
       "<torch._C.Generator at 0x1fff79b38f0>"
      ]
     },
     "execution_count": 2,
     "metadata": {},
     "output_type": "execute_result"
    }
   ],
   "source": [
    "%matplotlib inline\n",
    "from matplotlib import pyplot as plt\n",
    "import numpy as np\n",
    "import torch\n",
    "import torch.nn as nn\n",
    "import torch.optim as optim\n",
    "\n",
    "from datetime import datetime\n",
    "\n",
    "torch.set_printoptions(edgeitems=2)\n",
    "torch.manual_seed(123)"
   ]
  },
  {
   "cell_type": "code",
   "execution_count": 3,
   "id": "c737880c",
   "metadata": {},
   "outputs": [],
   "source": [
    "class_names = ['airplane','automobile','bird','cat','deer',\n",
    "               'dog','frog','horse','ship','truck']"
   ]
  },
  {
   "cell_type": "code",
   "execution_count": 4,
   "id": "ff0b3c49",
   "metadata": {},
   "outputs": [],
   "source": [
    "from torchvision import datasets, transforms\n",
    "data_path = 'C:/Users/Shruthi/Documents/HWs/RTML/hw2/data'\n",
    "# Here the training set is downloaded as cifar10\n",
    "\n",
    "cifar10 = datasets.CIFAR10(\n",
    "    data_path, train=True, download=False,\n",
    "    transform=transforms.Compose([\n",
    "        transforms.ToTensor(),\n",
    "        transforms.Normalize((0.4915, 0.4823, 0.4468),\n",
    "                             (0.2470, 0.2435, 0.2616))\n",
    "    ]))"
   ]
  },
  {
   "cell_type": "code",
   "execution_count": 5,
   "id": "2de8da67",
   "metadata": {},
   "outputs": [],
   "source": [
    "# The validation set is downloaded as cifar10_val\n",
    "cifar10_val = datasets.CIFAR10(\n",
    "    data_path, train=False, download=False,\n",
    "    transform=transforms.Compose([\n",
    "        transforms.ToTensor(),\n",
    "        transforms.Normalize((0.4915, 0.4823, 0.4468),\n",
    "                             (0.2470, 0.2435, 0.2616))\n",
    "    ]))"
   ]
  },
  {
   "cell_type": "code",
   "execution_count": 6,
   "id": "bce3a203",
   "metadata": {},
   "outputs": [],
   "source": [
    "#The training set is defined as train_loader\n",
    "train_loader = torch.utils.data.DataLoader(cifar10, batch_size=64,\n",
    "                                           shuffle=False)"
   ]
  },
  {
   "cell_type": "code",
   "execution_count": 7,
   "id": "55b80e19",
   "metadata": {},
   "outputs": [],
   "source": [
    "#The validation set is defined as val_loader\n",
    "val_loader = torch.utils.data.DataLoader(cifar10_val, batch_size=64,\n",
    "                                         shuffle=False)"
   ]
  },
  {
   "cell_type": "code",
   "execution_count": 8,
   "id": "eaf5f529",
   "metadata": {},
   "outputs": [],
   "source": [
    "model1 = nn.Sequential(\n",
    "            nn.Conv2d(3, 16, kernel_size=3, padding=1),\n",
    "            nn.ReLU(),\n",
    "            nn.MaxPool2d(kernel_size=2),\n",
    "            nn.Flatten(),\n",
    "            nn.Linear(4096, 10),\n",
    "            nn.LogSoftmax(dim=1))"
   ]
  },
  {
   "cell_type": "code",
   "execution_count": 9,
   "id": "1d1f9005",
   "metadata": {},
   "outputs": [],
   "source": [
    "def training_loop(n_epochs, optimizer, model, loss_fn, train_loader):\n",
    "\n",
    "    correctt = 0\n",
    "    totalt = 0\n",
    "    \n",
    "    for epoch in range (1, n_epochs+1):\n",
    "        loss_train=0.0\n",
    "        for imgs, labels in train_loader:\n",
    "            outputs= model(imgs)\n",
    "            loss=loss_fn(outputs, labels)\n",
    "            optimizer.zero_grad()\n",
    "            loss.backward()\n",
    "            optimizer.step()\n",
    "            loss_train+=loss.item()\n",
    "            \n",
    "        if epoch ==1 or epoch % 10==0:\n",
    "            now = datetime.now()\n",
    "            dt_string = now.strftime(\"%d/%m/%Y %H:%M:%S\")\n",
    "            print(dt_string, \"Epoch: %d, Loss: %f\" % (epoch, float(loss)))\n",
    "            \n",
    "        with torch.no_grad():\n",
    "            for imgs, labels in train_loader:\n",
    "                outputs = model(imgs)\n",
    "                _, predicted = torch.max(outputs, dim=1)\n",
    "            totalt += labels.shape[0]\n",
    "            correctt += int((predicted == labels).sum())\n",
    "            acctt = float(correctt/totalt)\n",
    "    print(\"Accuracy in Training: \",acctt)"
   ]
  },
  {
   "cell_type": "code",
   "execution_count": 10,
   "id": "30e8eaea",
   "metadata": {},
   "outputs": [
    {
     "name": "stdout",
     "output_type": "stream",
     "text": [
      "27/03/2022 18:39:02 Epoch: 1, Loss: 2.129174\n",
      "27/03/2022 18:43:25 Epoch: 10, Loss: 1.244952\n",
      "27/03/2022 18:48:46 Epoch: 20, Loss: 1.003825\n",
      "27/03/2022 18:53:34 Epoch: 30, Loss: 0.830139\n",
      "27/03/2022 18:58:25 Epoch: 40, Loss: 0.731274\n",
      "27/03/2022 19:03:06 Epoch: 50, Loss: 0.666907\n",
      "27/03/2022 19:08:05 Epoch: 60, Loss: 0.625279\n",
      "27/03/2022 19:12:46 Epoch: 70, Loss: 0.594334\n",
      "27/03/2022 19:17:44 Epoch: 80, Loss: 0.570449\n",
      "27/03/2022 19:22:34 Epoch: 90, Loss: 0.549833\n",
      "27/03/2022 19:27:42 Epoch: 100, Loss: 0.527890\n",
      "27/03/2022 19:32:36 Epoch: 110, Loss: 0.509594\n",
      "27/03/2022 19:37:23 Epoch: 120, Loss: 0.484876\n",
      "27/03/2022 19:41:58 Epoch: 130, Loss: 0.467620\n",
      "27/03/2022 19:46:39 Epoch: 140, Loss: 0.444558\n",
      "27/03/2022 19:51:28 Epoch: 150, Loss: 0.421717\n",
      "27/03/2022 19:56:28 Epoch: 160, Loss: 0.399731\n",
      "27/03/2022 20:01:15 Epoch: 170, Loss: 0.373988\n",
      "27/03/2022 20:05:54 Epoch: 180, Loss: 0.360502\n",
      "27/03/2022 20:10:29 Epoch: 190, Loss: 0.341922\n",
      "27/03/2022 20:15:07 Epoch: 200, Loss: 0.327552\n",
      "27/03/2022 20:19:31 Epoch: 210, Loss: 0.314885\n",
      "27/03/2022 20:23:55 Epoch: 220, Loss: 0.300795\n",
      "27/03/2022 20:28:26 Epoch: 230, Loss: 0.288309\n",
      "27/03/2022 20:33:02 Epoch: 240, Loss: 0.278023\n",
      "27/03/2022 20:37:34 Epoch: 250, Loss: 0.267839\n",
      "27/03/2022 20:42:05 Epoch: 260, Loss: 0.260589\n",
      "27/03/2022 20:46:38 Epoch: 270, Loss: 0.256021\n",
      "27/03/2022 20:51:16 Epoch: 280, Loss: 0.250378\n",
      "27/03/2022 20:55:52 Epoch: 290, Loss: 0.244678\n",
      "27/03/2022 21:00:15 Epoch: 300, Loss: 0.240122\n",
      "Accuracy in Training:  0.9697916666666667\n"
     ]
    }
   ],
   "source": [
    "optimizer = optim.SGD(model1.parameters(), lr=1e-2)\n",
    "loss_fn = nn.CrossEntropyLoss()\n",
    "\n",
    "training_loop(\n",
    "    n_epochs = 300,\n",
    "    optimizer = optimizer,\n",
    "    model = model1,\n",
    "    loss_fn = loss_fn,\n",
    "    train_loader = train_loader)"
   ]
  },
  {
   "cell_type": "code",
   "execution_count": 11,
   "id": "0b997990",
   "metadata": {},
   "outputs": [
    {
     "name": "stdout",
     "output_type": "stream",
     "text": [
      "Accuracy in Validation:  0.6875\n"
     ]
    }
   ],
   "source": [
    "def validate(model, train_loader, val_loader):\n",
    "    for name, loader in [(\"train\", train_loader), (\"val\", val_loader)]:\n",
    "        correctv = 0\n",
    "        totalv = 0\n",
    "        \n",
    "        with torch.no_grad():\n",
    "            for imgs, labels in val_loader:\n",
    "                outputs = model(imgs)\n",
    "                _, predicted = torch.max(outputs, dim=1)\n",
    "            totalv += labels.shape[0]\n",
    "            correctv += int((predicted == labels).sum())\n",
    "            acctv = float(correctv/totalv)\n",
    "    print(\"Accuracy in Validation: \",acctv)\n",
    "validate (model1, train_loader, val_loader)"
   ]
  },
  {
   "cell_type": "code",
   "execution_count": 12,
   "id": "096796a5",
   "metadata": {},
   "outputs": [
    {
     "name": "stdout",
     "output_type": "stream",
     "text": [
      "Warning: module Flatten is treated as a zero-op.\n",
      "Warning: module LogSoftmax is treated as a zero-op.\n",
      "Sequential(\n",
      "  0.041 M, 100.000% Params, 0.001 GMac, 100.000% MACs, \n",
      "  (0): Conv2d(0.0 M, 1.082% Params, 0.0 GMac, 86.152% MACs, 3, 16, kernel_size=(3, 3), stride=(1, 1), padding=(1, 1))\n",
      "  (1): ReLU(0.0 M, 0.000% Params, 0.0 GMac, 3.077% MACs, )\n",
      "  (2): MaxPool2d(0.0 M, 0.000% Params, 0.0 GMac, 3.077% MACs, kernel_size=2, stride=2, padding=0, dilation=1, ceil_mode=False)\n",
      "  (3): Flatten(0.0 M, 0.000% Params, 0.0 GMac, 0.000% MACs, start_dim=1, end_dim=-1)\n",
      "  (4): Linear(0.041 M, 98.918% Params, 0.0 GMac, 7.694% MACs, in_features=4096, out_features=10, bias=True)\n",
      "  (5): LogSoftmax(0.0 M, 0.000% Params, 0.0 GMac, 0.000% MACs, dim=1)\n",
      ")\n",
      "Computational complexity:       0.0 GMac\n",
      "Number of parameters:           41.42 k \n"
     ]
    }
   ],
   "source": [
    "import torchvision.models as models\n",
    "from ptflops import get_model_complexity_info\n",
    "\n",
    "net = model1\n",
    "macs, params = get_model_complexity_info(net, (3, 32, 32), as_strings=True,\n",
    "                                           print_per_layer_stat=True, verbose=True)\n",
    "print('{:<30}  {:<8}'.format('Computational complexity: ', macs))\n",
    "print('{:<30}  {:<8}'.format('Number of parameters: ', params))"
   ]
  },
  {
   "cell_type": "code",
   "execution_count": 13,
   "id": "89a9b860",
   "metadata": {},
   "outputs": [
    {
     "data": {
      "text/plain": [
       "(41418, [432, 16, 40960, 10])"
      ]
     },
     "execution_count": 13,
     "metadata": {},
     "output_type": "execute_result"
    }
   ],
   "source": [
    "numel_list = [p.numel() for p in model1.parameters()]\n",
    "sum(numel_list), numel_list"
   ]
  }
 ],
 "metadata": {
  "kernelspec": {
   "display_name": "Python 3 (ipykernel)",
   "language": "python",
   "name": "python3"
  },
  "language_info": {
   "codemirror_mode": {
    "name": "ipython",
    "version": 3
   },
   "file_extension": ".py",
   "mimetype": "text/x-python",
   "name": "python",
   "nbconvert_exporter": "python",
   "pygments_lexer": "ipython3",
   "version": "3.9.7"
  }
 },
 "nbformat": 4,
 "nbformat_minor": 5
}
