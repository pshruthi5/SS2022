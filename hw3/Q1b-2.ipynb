{
 "cells": [
  {
   "cell_type": "code",
   "execution_count": null,
   "id": "f2073cf4",
   "metadata": {},
   "outputs": [],
   "source": [
    "#STUDENT NAME: SHRUTHI\n",
    "#STUDENT ID: 801218392\n",
    "#HOMEWORK 3 QUESTION 1-B"
   ]
  },
  {
   "cell_type": "code",
   "execution_count": 1,
   "id": "f7f512d5",
   "metadata": {},
   "outputs": [
    {
     "data": {
      "text/plain": [
       "<torch._C.Generator at 0x28d259ec8b0>"
      ]
     },
     "execution_count": 1,
     "metadata": {},
     "output_type": "execute_result"
    }
   ],
   "source": [
    "%matplotlib inline\n",
    "from matplotlib import pyplot as plt\n",
    "import numpy as np\n",
    "import torch\n",
    "import torch.nn as nn\n",
    "import torch.optim as optim\n",
    "\n",
    "from datetime import datetime\n",
    "\n",
    "torch.set_printoptions(edgeitems=2)\n",
    "torch.manual_seed(123)"
   ]
  },
  {
   "cell_type": "code",
   "execution_count": 2,
   "id": "c737880c",
   "metadata": {},
   "outputs": [],
   "source": [
    "class_names = ['airplane','automobile','bird','cat','deer',\n",
    "               'dog','frog','horse','ship','truck']"
   ]
  },
  {
   "cell_type": "code",
   "execution_count": 3,
   "id": "ff0b3c49",
   "metadata": {},
   "outputs": [],
   "source": [
    "from torchvision import datasets, transforms\n",
    "data_path = 'C:/Users/Shruthi/Documents/HWs/RTML/hw2/data'\n",
    "# Here the training set is downloaded as cifar10\n",
    "\n",
    "cifar10 = datasets.CIFAR10(\n",
    "    data_path, train=True, download=False,\n",
    "    transform=transforms.Compose([\n",
    "        transforms.ToTensor(),\n",
    "        transforms.Normalize((0.4915, 0.4823, 0.4468),\n",
    "                             (0.2470, 0.2435, 0.2616))\n",
    "    ]))"
   ]
  },
  {
   "cell_type": "code",
   "execution_count": 4,
   "id": "2de8da67",
   "metadata": {},
   "outputs": [],
   "source": [
    "# The validation set is downloaded as cifar10_val\n",
    "cifar10_val = datasets.CIFAR10(\n",
    "    data_path, train=False, download=False,\n",
    "    transform=transforms.Compose([\n",
    "        transforms.ToTensor(),\n",
    "        transforms.Normalize((0.4915, 0.4823, 0.4468),\n",
    "                             (0.2470, 0.2435, 0.2616))\n",
    "    ]))"
   ]
  },
  {
   "cell_type": "code",
   "execution_count": 5,
   "id": "bce3a203",
   "metadata": {},
   "outputs": [],
   "source": [
    "#The training set is defined as train_loader\n",
    "train_loader = torch.utils.data.DataLoader(cifar10, batch_size=64,\n",
    "                                           shuffle=False)"
   ]
  },
  {
   "cell_type": "code",
   "execution_count": 6,
   "id": "55b80e19",
   "metadata": {},
   "outputs": [],
   "source": [
    "#The validation set is defined as val_loader\n",
    "val_loader = torch.utils.data.DataLoader(cifar10_val, batch_size=64,\n",
    "                                         shuffle=False)"
   ]
  },
  {
   "cell_type": "code",
   "execution_count": 7,
   "id": "eaf5f529",
   "metadata": {},
   "outputs": [],
   "source": [
    "model2 = nn.Sequential(\n",
    "            nn.Conv2d(3, 16, kernel_size=3, padding=1),\n",
    "            nn.ReLU(),\n",
    "            nn.MaxPool2d(kernel_size=2),\n",
    "            nn.Conv2d(16, 8, kernel_size=3, padding=1),\n",
    "            nn.ReLU(),\n",
    "            nn.MaxPool2d(kernel_size=2),\n",
    "            nn.Flatten(),\n",
    "            nn.Linear(512, 64),\n",
    "            nn.LogSoftmax(dim=1))"
   ]
  },
  {
   "cell_type": "code",
   "execution_count": 8,
   "id": "1d1f9005",
   "metadata": {},
   "outputs": [],
   "source": [
    "def training_loop(n_epochs, optimizer, model, loss_fn, train_loader):\n",
    "\n",
    "    correctt = 0\n",
    "    totalt = 0\n",
    "    \n",
    "    for epoch in range (1, n_epochs+1):\n",
    "        loss_train=0.0\n",
    "        for imgs, labels in train_loader:\n",
    "            outputs= model(imgs)\n",
    "            loss=loss_fn(outputs, labels)\n",
    "            optimizer.zero_grad()\n",
    "            loss.backward()\n",
    "            optimizer.step()\n",
    "            loss_train+=loss.item()\n",
    "            \n",
    "        if epoch ==1 or epoch % 10==0:\n",
    "            now = datetime.now()\n",
    "            dt_string = now.strftime(\"%d/%m/%Y %H:%M:%S\")\n",
    "            print(dt_string, \"Epoch: %d, Loss: %f\" % (epoch, float(loss)))\n",
    "            \n",
    "        with torch.no_grad():\n",
    "            for imgs, labels in train_loader:\n",
    "                outputs = model(imgs)\n",
    "                _, predicted = torch.max(outputs, dim=1)\n",
    "            totalt += labels.shape[0]\n",
    "            correctt += int((predicted == labels).sum())\n",
    "            acctt = float(correctt/totalt)\n",
    "    print(\"Accuracy in Training: \",acctt)"
   ]
  },
  {
   "cell_type": "code",
   "execution_count": 9,
   "id": "30e8eaea",
   "metadata": {},
   "outputs": [
    {
     "name": "stdout",
     "output_type": "stream",
     "text": [
      "25/03/2022 08:15:21 Epoch: 1, Loss: 2.309780\n",
      "25/03/2022 08:20:04 Epoch: 10, Loss: 1.673684\n",
      "25/03/2022 08:25:20 Epoch: 20, Loss: 1.557179\n",
      "25/03/2022 08:30:43 Epoch: 30, Loss: 1.400070\n",
      "25/03/2022 08:35:58 Epoch: 40, Loss: 1.355903\n",
      "25/03/2022 08:41:21 Epoch: 50, Loss: 1.309954\n",
      "25/03/2022 08:46:37 Epoch: 60, Loss: 1.245668\n",
      "25/03/2022 08:52:07 Epoch: 70, Loss: 1.203056\n",
      "25/03/2022 08:57:36 Epoch: 80, Loss: 1.177593\n",
      "25/03/2022 09:03:02 Epoch: 90, Loss: 1.153771\n",
      "25/03/2022 09:08:38 Epoch: 100, Loss: 1.123013\n",
      "25/03/2022 09:14:04 Epoch: 110, Loss: 1.114730\n",
      "25/03/2022 09:19:31 Epoch: 120, Loss: 1.108476\n",
      "25/03/2022 09:24:52 Epoch: 130, Loss: 1.084753\n",
      "25/03/2022 09:30:04 Epoch: 140, Loss: 1.080791\n",
      "25/03/2022 09:35:18 Epoch: 150, Loss: 1.064143\n",
      "25/03/2022 09:40:21 Epoch: 160, Loss: 1.050926\n",
      "25/03/2022 09:45:41 Epoch: 170, Loss: 1.045110\n",
      "25/03/2022 09:51:13 Epoch: 180, Loss: 1.044679\n",
      "25/03/2022 09:56:43 Epoch: 190, Loss: 1.038527\n",
      "25/03/2022 10:02:05 Epoch: 200, Loss: 1.031460\n",
      "25/03/2022 10:07:32 Epoch: 210, Loss: 1.023643\n",
      "25/03/2022 10:12:55 Epoch: 220, Loss: 1.019185\n",
      "25/03/2022 10:18:18 Epoch: 230, Loss: 1.005903\n",
      "25/03/2022 10:23:40 Epoch: 240, Loss: 1.014255\n",
      "25/03/2022 10:28:59 Epoch: 250, Loss: 1.011254\n",
      "25/03/2022 10:34:18 Epoch: 260, Loss: 0.990992\n",
      "25/03/2022 10:39:35 Epoch: 270, Loss: 0.988110\n",
      "25/03/2022 10:44:55 Epoch: 280, Loss: 0.989629\n",
      "25/03/2022 10:50:14 Epoch: 290, Loss: 0.989399\n",
      "25/03/2022 10:55:31 Epoch: 300, Loss: 0.981958\n",
      "Accuracy in Training:  0.8054166666666667\n"
     ]
    }
   ],
   "source": [
    "optimizer = optim.SGD(model2.parameters(), lr=1e-2)\n",
    "loss_fn = nn.NLLLoss()\n",
    "\n",
    "training_loop(\n",
    "    n_epochs = 300,\n",
    "    optimizer = optimizer,\n",
    "    model = model2,\n",
    "    loss_fn = loss_fn,\n",
    "    train_loader = train_loader)"
   ]
  },
  {
   "cell_type": "code",
   "execution_count": 10,
   "id": "0b997990",
   "metadata": {},
   "outputs": [
    {
     "name": "stdout",
     "output_type": "stream",
     "text": [
      "Accuracy in Validation:  0.625\n"
     ]
    }
   ],
   "source": [
    "def validate(model, train_loader, val_loader):\n",
    "    for name, loader in [(\"train\", train_loader), (\"val\", val_loader)]:\n",
    "        correctv = 0\n",
    "        totalv = 0\n",
    "        \n",
    "        with torch.no_grad():\n",
    "            for imgs, labels in val_loader:\n",
    "                outputs = model(imgs)\n",
    "                _, predicted = torch.max(outputs, dim=1)\n",
    "            totalv += labels.shape[0]\n",
    "            correctv += int((predicted == labels).sum())\n",
    "            acctv = float(correctv/totalv)\n",
    "    print(\"Accuracy in Validation: \",acctv)\n",
    "validate (model2, train_loader, val_loader)"
   ]
  },
  {
   "cell_type": "code",
   "execution_count": 11,
   "id": "096796a5",
   "metadata": {},
   "outputs": [
    {
     "name": "stdout",
     "output_type": "stream",
     "text": [
      "Warning: module Flatten is treated as a zero-op.\n",
      "Warning: module LogSoftmax is treated as a zero-op.\n",
      "Sequential(\n",
      "  0.034 M, 100.000% Params, 0.001 GMac, 100.000% MACs, \n",
      "  (0): Conv2d(0.0 M, 1.301% Params, 0.0 GMac, 55.579% MACs, 3, 16, kernel_size=(3, 3), stride=(1, 1), padding=(1, 1))\n",
      "  (1): ReLU(0.0 M, 0.000% Params, 0.0 GMac, 1.985% MACs, )\n",
      "  (2): MaxPool2d(0.0 M, 0.000% Params, 0.0 GMac, 1.985% MACs, kernel_size=2, stride=2, padding=0, dilation=1, ceil_mode=False)\n",
      "  (3): Conv2d(0.001 M, 3.368% Params, 0.0 GMac, 35.977% MACs, 16, 8, kernel_size=(3, 3), stride=(1, 1), padding=(1, 1))\n",
      "  (4): ReLU(0.0 M, 0.000% Params, 0.0 GMac, 0.248% MACs, )\n",
      "  (5): MaxPool2d(0.0 M, 0.000% Params, 0.0 GMac, 0.248% MACs, kernel_size=2, stride=2, padding=0, dilation=1, ceil_mode=False)\n",
      "  (6): Flatten(0.0 M, 0.000% Params, 0.0 GMac, 0.000% MACs, start_dim=1, end_dim=-1)\n",
      "  (7): Linear(0.033 M, 95.331% Params, 0.0 GMac, 3.978% MACs, in_features=512, out_features=64, bias=True)\n",
      "  (8): LogSoftmax(0.0 M, 0.000% Params, 0.0 GMac, 0.000% MACs, dim=1)\n",
      ")\n",
      "Computational complexity:       0.0 GMac\n",
      "Number of parameters:           34.44 k \n"
     ]
    }
   ],
   "source": [
    "import torchvision.models as models\n",
    "from ptflops import get_model_complexity_info\n",
    "\n",
    "net = model2\n",
    "macs, params = get_model_complexity_info(net, (3, 32, 32), as_strings=True,\n",
    "                                           print_per_layer_stat=True, verbose=True)\n",
    "print('{:<30}  {:<8}'.format('Computational complexity: ', macs))\n",
    "print('{:<30}  {:<8}'.format('Number of parameters: ', params))"
   ]
  },
  {
   "cell_type": "code",
   "execution_count": 12,
   "id": "89a9b860",
   "metadata": {},
   "outputs": [
    {
     "data": {
      "text/plain": [
       "(34440, [432, 16, 1152, 8, 32768, 64])"
      ]
     },
     "execution_count": 12,
     "metadata": {},
     "output_type": "execute_result"
    }
   ],
   "source": [
    "numel_list = [p.numel() for p in model2.parameters()]\n",
    "sum(numel_list), numel_list"
   ]
  }
 ],
 "metadata": {
  "kernelspec": {
   "display_name": "Python 3 (ipykernel)",
   "language": "python",
   "name": "python3"
  },
  "language_info": {
   "codemirror_mode": {
    "name": "ipython",
    "version": 3
   },
   "file_extension": ".py",
   "mimetype": "text/x-python",
   "name": "python",
   "nbconvert_exporter": "python",
   "pygments_lexer": "ipython3",
   "version": "3.9.7"
  }
 },
 "nbformat": 4,
 "nbformat_minor": 5
}
