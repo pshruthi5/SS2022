{
 "cells": [
  {
   "cell_type": "code",
   "execution_count": 1,
   "id": "f2073cf4",
   "metadata": {},
   "outputs": [],
   "source": [
    "#STUDENT NAME: SHRUTHI\n",
    "#STUDENT ID: 801218392\n",
    "#HOMEWORK 3 QUESTION 1-B"
   ]
  },
  {
   "cell_type": "code",
   "execution_count": 2,
   "id": "f7f512d5",
   "metadata": {},
   "outputs": [
    {
     "data": {
      "text/plain": [
       "<torch._C.Generator at 0x19f475658f0>"
      ]
     },
     "execution_count": 2,
     "metadata": {},
     "output_type": "execute_result"
    }
   ],
   "source": [
    "%matplotlib inline\n",
    "from matplotlib import pyplot as plt\n",
    "import numpy as np\n",
    "import torch\n",
    "import torch.nn as nn\n",
    "import torch.optim as optim\n",
    "\n",
    "from datetime import datetime\n",
    "\n",
    "torch.set_printoptions(edgeitems=2)\n",
    "torch.manual_seed(123)"
   ]
  },
  {
   "cell_type": "code",
   "execution_count": 3,
   "id": "c737880c",
   "metadata": {},
   "outputs": [],
   "source": [
    "class_names = ['airplane','automobile','bird','cat','deer',\n",
    "               'dog','frog','horse','ship','truck']"
   ]
  },
  {
   "cell_type": "code",
   "execution_count": 4,
   "id": "ff0b3c49",
   "metadata": {},
   "outputs": [],
   "source": [
    "from torchvision import datasets, transforms\n",
    "data_path = 'C:/Users/Shruthi/Documents/HWs/RTML/hw2/data'\n",
    "# Here the training set is downloaded as cifar10\n",
    "\n",
    "cifar10 = datasets.CIFAR10(\n",
    "    data_path, train=True, download=False,\n",
    "    transform=transforms.Compose([\n",
    "        transforms.ToTensor(),\n",
    "        transforms.Normalize((0.4915, 0.4823, 0.4468),\n",
    "                             (0.2470, 0.2435, 0.2616))\n",
    "    ]))"
   ]
  },
  {
   "cell_type": "code",
   "execution_count": 5,
   "id": "2de8da67",
   "metadata": {},
   "outputs": [],
   "source": [
    "# The validation set is downloaded as cifar10_val\n",
    "cifar10_val = datasets.CIFAR10(\n",
    "    data_path, train=False, download=False,\n",
    "    transform=transforms.Compose([\n",
    "        transforms.ToTensor(),\n",
    "        transforms.Normalize((0.4915, 0.4823, 0.4468),\n",
    "                             (0.2470, 0.2435, 0.2616))\n",
    "    ]))"
   ]
  },
  {
   "cell_type": "code",
   "execution_count": 6,
   "id": "bce3a203",
   "metadata": {},
   "outputs": [],
   "source": [
    "#The training set is defined as train_loader\n",
    "train_loader = torch.utils.data.DataLoader(cifar10, batch_size=64,\n",
    "                                           shuffle=False)"
   ]
  },
  {
   "cell_type": "code",
   "execution_count": 7,
   "id": "55b80e19",
   "metadata": {},
   "outputs": [],
   "source": [
    "#The validation set is defined as val_loader\n",
    "val_loader = torch.utils.data.DataLoader(cifar10_val, batch_size=64,\n",
    "                                         shuffle=False)"
   ]
  },
  {
   "cell_type": "code",
   "execution_count": 8,
   "id": "eaf5f529",
   "metadata": {},
   "outputs": [],
   "source": [
    "model2 = nn.Sequential(\n",
    "            nn.Conv2d(3, 16, kernel_size=3, padding=1),\n",
    "            nn.ReLU(),\n",
    "            nn.MaxPool2d(kernel_size=2),\n",
    "            nn.Conv2d(16, 8, kernel_size=3, padding=1),\n",
    "            nn.ReLU(),\n",
    "            nn.MaxPool2d(kernel_size=2),\n",
    "            nn.Flatten(),\n",
    "            nn.Linear(512, 10),\n",
    "            nn.LogSoftmax(dim=1))"
   ]
  },
  {
   "cell_type": "code",
   "execution_count": 9,
   "id": "1d1f9005",
   "metadata": {},
   "outputs": [],
   "source": [
    "def training_loop(n_epochs, optimizer, model, loss_fn, train_loader):\n",
    "\n",
    "    correctt = 0\n",
    "    totalt = 0\n",
    "    \n",
    "    for epoch in range (1, n_epochs+1):\n",
    "        loss_train=0.0\n",
    "        for imgs, labels in train_loader:\n",
    "            outputs= model(imgs)\n",
    "            loss=loss_fn(outputs, labels)\n",
    "            optimizer.zero_grad()\n",
    "            loss.backward()\n",
    "            optimizer.step()\n",
    "            loss_train+=loss.item()\n",
    "            \n",
    "        if epoch ==1 or epoch % 10==0:\n",
    "            now = datetime.now()\n",
    "            dt_string = now.strftime(\"%d/%m/%Y %H:%M:%S\")\n",
    "            print(dt_string, \"Epoch: %d, Loss: %f\" % (epoch, float(loss)))\n",
    "            \n",
    "        with torch.no_grad():\n",
    "            for imgs, labels in train_loader:\n",
    "                outputs = model(imgs)\n",
    "                _, predicted = torch.max(outputs, dim=1)\n",
    "            totalt += labels.shape[0]\n",
    "            correctt += int((predicted == labels).sum())\n",
    "            acctt = float(correctt/totalt)\n",
    "    print(\"Accuracy in Training: \",acctt)"
   ]
  },
  {
   "cell_type": "code",
   "execution_count": 10,
   "id": "30e8eaea",
   "metadata": {},
   "outputs": [
    {
     "name": "stdout",
     "output_type": "stream",
     "text": [
      "27/03/2022 21:04:26 Epoch: 1, Loss: 2.187056\n",
      "27/03/2022 21:09:18 Epoch: 10, Loss: 1.683421\n",
      "27/03/2022 21:14:40 Epoch: 20, Loss: 1.669917\n",
      "27/03/2022 21:19:54 Epoch: 30, Loss: 1.553355\n",
      "27/03/2022 21:25:25 Epoch: 40, Loss: 1.414230\n",
      "27/03/2022 21:30:39 Epoch: 50, Loss: 1.305678\n",
      "27/03/2022 21:35:46 Epoch: 60, Loss: 1.215417\n",
      "27/03/2022 21:40:54 Epoch: 70, Loss: 1.173716\n",
      "27/03/2022 21:46:13 Epoch: 80, Loss: 1.141323\n",
      "27/03/2022 21:51:43 Epoch: 90, Loss: 1.117276\n",
      "27/03/2022 21:57:29 Epoch: 100, Loss: 1.079265\n",
      "27/03/2022 22:03:00 Epoch: 110, Loss: 1.063236\n",
      "27/03/2022 22:08:21 Epoch: 120, Loss: 1.063122\n",
      "27/03/2022 22:13:46 Epoch: 130, Loss: 1.058090\n",
      "27/03/2022 22:19:04 Epoch: 140, Loss: 1.058676\n",
      "27/03/2022 22:24:41 Epoch: 150, Loss: 1.064309\n",
      "27/03/2022 22:30:02 Epoch: 160, Loss: 1.055569\n",
      "27/03/2022 22:34:59 Epoch: 170, Loss: 1.060165\n",
      "27/03/2022 22:39:59 Epoch: 180, Loss: 1.062684\n",
      "27/03/2022 22:45:00 Epoch: 190, Loss: 1.062436\n",
      "27/03/2022 22:50:08 Epoch: 200, Loss: 1.069227\n",
      "27/03/2022 22:55:22 Epoch: 210, Loss: 1.073487\n",
      "27/03/2022 23:00:25 Epoch: 220, Loss: 1.082630\n",
      "27/03/2022 23:05:39 Epoch: 230, Loss: 1.074854\n",
      "27/03/2022 23:10:59 Epoch: 240, Loss: 1.073217\n",
      "27/03/2022 23:16:18 Epoch: 250, Loss: 1.060875\n",
      "27/03/2022 23:21:36 Epoch: 260, Loss: 1.061971\n",
      "27/03/2022 23:26:50 Epoch: 270, Loss: 1.051997\n",
      "27/03/2022 23:32:12 Epoch: 280, Loss: 1.055699\n",
      "27/03/2022 23:37:22 Epoch: 290, Loss: 1.053061\n",
      "27/03/2022 23:42:33 Epoch: 300, Loss: 1.040640\n",
      "Accuracy in Training:  0.7658333333333334\n"
     ]
    }
   ],
   "source": [
    "optimizer = optim.SGD(model2.parameters(), lr=1e-2)\n",
    "loss_fn = nn.NLLLoss()\n",
    "\n",
    "training_loop(\n",
    "    n_epochs = 300,\n",
    "    optimizer = optimizer,\n",
    "    model = model2,\n",
    "    loss_fn = loss_fn,\n",
    "    train_loader = train_loader)"
   ]
  },
  {
   "cell_type": "code",
   "execution_count": 11,
   "id": "0b997990",
   "metadata": {},
   "outputs": [
    {
     "name": "stdout",
     "output_type": "stream",
     "text": [
      "Accuracy in Validation:  0.6875\n"
     ]
    }
   ],
   "source": [
    "def validate(model, train_loader, val_loader):\n",
    "    for name, loader in [(\"train\", train_loader), (\"val\", val_loader)]:\n",
    "        correctv = 0\n",
    "        totalv = 0\n",
    "        \n",
    "        with torch.no_grad():\n",
    "            for imgs, labels in val_loader:\n",
    "                outputs = model(imgs)\n",
    "                _, predicted = torch.max(outputs, dim=1)\n",
    "            totalv += labels.shape[0]\n",
    "            correctv += int((predicted == labels).sum())\n",
    "            acctv = float(correctv/totalv)\n",
    "    print(\"Accuracy in Validation: \",acctv)\n",
    "validate (model2, train_loader, val_loader)"
   ]
  },
  {
   "cell_type": "code",
   "execution_count": 12,
   "id": "096796a5",
   "metadata": {},
   "outputs": [
    {
     "name": "stdout",
     "output_type": "stream",
     "text": [
      "Warning: module Flatten is treated as a zero-op.\n",
      "Warning: module LogSoftmax is treated as a zero-op.\n",
      "Sequential(\n",
      "  0.007 M, 100.000% Params, 0.001 GMac, 100.000% MACs, \n",
      "  (0): Conv2d(0.0 M, 6.649% Params, 0.0 GMac, 57.509% MACs, 3, 16, kernel_size=(3, 3), stride=(1, 1), padding=(1, 1))\n",
      "  (1): ReLU(0.0 M, 0.000% Params, 0.0 GMac, 2.054% MACs, )\n",
      "  (2): MaxPool2d(0.0 M, 0.000% Params, 0.0 GMac, 2.054% MACs, kernel_size=2, stride=2, padding=0, dilation=1, ceil_mode=False)\n",
      "  (3): Conv2d(0.001 M, 17.216% Params, 0.0 GMac, 37.227% MACs, 16, 8, kernel_size=(3, 3), stride=(1, 1), padding=(1, 1))\n",
      "  (4): ReLU(0.0 M, 0.000% Params, 0.0 GMac, 0.257% MACs, )\n",
      "  (5): MaxPool2d(0.0 M, 0.000% Params, 0.0 GMac, 0.257% MACs, kernel_size=2, stride=2, padding=0, dilation=1, ceil_mode=False)\n",
      "  (6): Flatten(0.0 M, 0.000% Params, 0.0 GMac, 0.000% MACs, start_dim=1, end_dim=-1)\n",
      "  (7): Linear(0.005 M, 76.135% Params, 0.0 GMac, 0.643% MACs, in_features=512, out_features=10, bias=True)\n",
      "  (8): LogSoftmax(0.0 M, 0.000% Params, 0.0 GMac, 0.000% MACs, dim=1)\n",
      ")\n",
      "Computational complexity:       0.0 GMac\n",
      "Number of parameters:           6.74 k  \n"
     ]
    }
   ],
   "source": [
    "import torchvision.models as models\n",
    "from ptflops import get_model_complexity_info\n",
    "\n",
    "net = model2\n",
    "macs, params = get_model_complexity_info(net, (3, 32, 32), as_strings=True,\n",
    "                                           print_per_layer_stat=True, verbose=True)\n",
    "print('{:<30}  {:<8}'.format('Computational complexity: ', macs))\n",
    "print('{:<30}  {:<8}'.format('Number of parameters: ', params))"
   ]
  },
  {
   "cell_type": "code",
   "execution_count": 13,
   "id": "89a9b860",
   "metadata": {},
   "outputs": [
    {
     "data": {
      "text/plain": [
       "(6738, [432, 16, 1152, 8, 5120, 10])"
      ]
     },
     "execution_count": 13,
     "metadata": {},
     "output_type": "execute_result"
    }
   ],
   "source": [
    "numel_list = [p.numel() for p in model2.parameters()]\n",
    "sum(numel_list), numel_list"
   ]
  }
 ],
 "metadata": {
  "kernelspec": {
   "display_name": "Python 3 (ipykernel)",
   "language": "python",
   "name": "python3"
  },
  "language_info": {
   "codemirror_mode": {
    "name": "ipython",
    "version": 3
   },
   "file_extension": ".py",
   "mimetype": "text/x-python",
   "name": "python",
   "nbconvert_exporter": "python",
   "pygments_lexer": "ipython3",
   "version": "3.9.7"
  }
 },
 "nbformat": 4,
 "nbformat_minor": 5
}
